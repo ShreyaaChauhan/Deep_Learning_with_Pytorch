{
  "nbformat": 4,
  "nbformat_minor": 0,
  "metadata": {
    "colab": {
      "provenance": [],
      "authorship_tag": "ABX9TyP6Hf/y/TKLtBLdRgfI/xTT",
      "include_colab_link": true
    },
    "kernelspec": {
      "name": "python3",
      "display_name": "Python 3"
    },
    "language_info": {
      "name": "python"
    },
    "accelerator": "GPU",
    "gpuClass": "standard",
    "widgets": {
      "application/vnd.jupyter.widget-state+json": {
        "f848e407c4014ead80b52579ff811bc3": {
          "model_module": "@jupyter-widgets/controls",
          "model_name": "HBoxModel",
          "model_module_version": "1.5.0",
          "state": {
            "_dom_classes": [],
            "_model_module": "@jupyter-widgets/controls",
            "_model_module_version": "1.5.0",
            "_model_name": "HBoxModel",
            "_view_count": null,
            "_view_module": "@jupyter-widgets/controls",
            "_view_module_version": "1.5.0",
            "_view_name": "HBoxView",
            "box_style": "",
            "children": [
              "IPY_MODEL_57983857d709447aaf67eb614502b0c4",
              "IPY_MODEL_72b17732bd684bb4a0d7947533eb4bc3",
              "IPY_MODEL_7244306c5fe442a88059cc78219e1e8f"
            ],
            "layout": "IPY_MODEL_2aea39a3346442f882ddf3b8653a5d2a"
          }
        },
        "57983857d709447aaf67eb614502b0c4": {
          "model_module": "@jupyter-widgets/controls",
          "model_name": "HTMLModel",
          "model_module_version": "1.5.0",
          "state": {
            "_dom_classes": [],
            "_model_module": "@jupyter-widgets/controls",
            "_model_module_version": "1.5.0",
            "_model_name": "HTMLModel",
            "_view_count": null,
            "_view_module": "@jupyter-widgets/controls",
            "_view_module_version": "1.5.0",
            "_view_name": "HTMLView",
            "description": "",
            "description_tooltip": null,
            "layout": "IPY_MODEL_0c637a8063804208859af061aec7c8c9",
            "placeholder": "​",
            "style": "IPY_MODEL_36bd4d4c66784e27bd8b22fe2f8112da",
            "value": "100%"
          }
        },
        "72b17732bd684bb4a0d7947533eb4bc3": {
          "model_module": "@jupyter-widgets/controls",
          "model_name": "FloatProgressModel",
          "model_module_version": "1.5.0",
          "state": {
            "_dom_classes": [],
            "_model_module": "@jupyter-widgets/controls",
            "_model_module_version": "1.5.0",
            "_model_name": "FloatProgressModel",
            "_view_count": null,
            "_view_module": "@jupyter-widgets/controls",
            "_view_module_version": "1.5.0",
            "_view_name": "ProgressView",
            "bar_style": "success",
            "description": "",
            "description_tooltip": null,
            "layout": "IPY_MODEL_468afb5be31046cb8cdadfb807955339",
            "max": 170498071,
            "min": 0,
            "orientation": "horizontal",
            "style": "IPY_MODEL_32a79e98118d4ac4ae8d65ea70c07d17",
            "value": 170498071
          }
        },
        "7244306c5fe442a88059cc78219e1e8f": {
          "model_module": "@jupyter-widgets/controls",
          "model_name": "HTMLModel",
          "model_module_version": "1.5.0",
          "state": {
            "_dom_classes": [],
            "_model_module": "@jupyter-widgets/controls",
            "_model_module_version": "1.5.0",
            "_model_name": "HTMLModel",
            "_view_count": null,
            "_view_module": "@jupyter-widgets/controls",
            "_view_module_version": "1.5.0",
            "_view_name": "HTMLView",
            "description": "",
            "description_tooltip": null,
            "layout": "IPY_MODEL_531df7237c7a4297a07078793fedafbd",
            "placeholder": "​",
            "style": "IPY_MODEL_596a011e82aa4774a972c03b06d22579",
            "value": " 170498071/170498071 [00:06&lt;00:00, 26497993.30it/s]"
          }
        },
        "2aea39a3346442f882ddf3b8653a5d2a": {
          "model_module": "@jupyter-widgets/base",
          "model_name": "LayoutModel",
          "model_module_version": "1.2.0",
          "state": {
            "_model_module": "@jupyter-widgets/base",
            "_model_module_version": "1.2.0",
            "_model_name": "LayoutModel",
            "_view_count": null,
            "_view_module": "@jupyter-widgets/base",
            "_view_module_version": "1.2.0",
            "_view_name": "LayoutView",
            "align_content": null,
            "align_items": null,
            "align_self": null,
            "border": null,
            "bottom": null,
            "display": null,
            "flex": null,
            "flex_flow": null,
            "grid_area": null,
            "grid_auto_columns": null,
            "grid_auto_flow": null,
            "grid_auto_rows": null,
            "grid_column": null,
            "grid_gap": null,
            "grid_row": null,
            "grid_template_areas": null,
            "grid_template_columns": null,
            "grid_template_rows": null,
            "height": null,
            "justify_content": null,
            "justify_items": null,
            "left": null,
            "margin": null,
            "max_height": null,
            "max_width": null,
            "min_height": null,
            "min_width": null,
            "object_fit": null,
            "object_position": null,
            "order": null,
            "overflow": null,
            "overflow_x": null,
            "overflow_y": null,
            "padding": null,
            "right": null,
            "top": null,
            "visibility": null,
            "width": null
          }
        },
        "0c637a8063804208859af061aec7c8c9": {
          "model_module": "@jupyter-widgets/base",
          "model_name": "LayoutModel",
          "model_module_version": "1.2.0",
          "state": {
            "_model_module": "@jupyter-widgets/base",
            "_model_module_version": "1.2.0",
            "_model_name": "LayoutModel",
            "_view_count": null,
            "_view_module": "@jupyter-widgets/base",
            "_view_module_version": "1.2.0",
            "_view_name": "LayoutView",
            "align_content": null,
            "align_items": null,
            "align_self": null,
            "border": null,
            "bottom": null,
            "display": null,
            "flex": null,
            "flex_flow": null,
            "grid_area": null,
            "grid_auto_columns": null,
            "grid_auto_flow": null,
            "grid_auto_rows": null,
            "grid_column": null,
            "grid_gap": null,
            "grid_row": null,
            "grid_template_areas": null,
            "grid_template_columns": null,
            "grid_template_rows": null,
            "height": null,
            "justify_content": null,
            "justify_items": null,
            "left": null,
            "margin": null,
            "max_height": null,
            "max_width": null,
            "min_height": null,
            "min_width": null,
            "object_fit": null,
            "object_position": null,
            "order": null,
            "overflow": null,
            "overflow_x": null,
            "overflow_y": null,
            "padding": null,
            "right": null,
            "top": null,
            "visibility": null,
            "width": null
          }
        },
        "36bd4d4c66784e27bd8b22fe2f8112da": {
          "model_module": "@jupyter-widgets/controls",
          "model_name": "DescriptionStyleModel",
          "model_module_version": "1.5.0",
          "state": {
            "_model_module": "@jupyter-widgets/controls",
            "_model_module_version": "1.5.0",
            "_model_name": "DescriptionStyleModel",
            "_view_count": null,
            "_view_module": "@jupyter-widgets/base",
            "_view_module_version": "1.2.0",
            "_view_name": "StyleView",
            "description_width": ""
          }
        },
        "468afb5be31046cb8cdadfb807955339": {
          "model_module": "@jupyter-widgets/base",
          "model_name": "LayoutModel",
          "model_module_version": "1.2.0",
          "state": {
            "_model_module": "@jupyter-widgets/base",
            "_model_module_version": "1.2.0",
            "_model_name": "LayoutModel",
            "_view_count": null,
            "_view_module": "@jupyter-widgets/base",
            "_view_module_version": "1.2.0",
            "_view_name": "LayoutView",
            "align_content": null,
            "align_items": null,
            "align_self": null,
            "border": null,
            "bottom": null,
            "display": null,
            "flex": null,
            "flex_flow": null,
            "grid_area": null,
            "grid_auto_columns": null,
            "grid_auto_flow": null,
            "grid_auto_rows": null,
            "grid_column": null,
            "grid_gap": null,
            "grid_row": null,
            "grid_template_areas": null,
            "grid_template_columns": null,
            "grid_template_rows": null,
            "height": null,
            "justify_content": null,
            "justify_items": null,
            "left": null,
            "margin": null,
            "max_height": null,
            "max_width": null,
            "min_height": null,
            "min_width": null,
            "object_fit": null,
            "object_position": null,
            "order": null,
            "overflow": null,
            "overflow_x": null,
            "overflow_y": null,
            "padding": null,
            "right": null,
            "top": null,
            "visibility": null,
            "width": null
          }
        },
        "32a79e98118d4ac4ae8d65ea70c07d17": {
          "model_module": "@jupyter-widgets/controls",
          "model_name": "ProgressStyleModel",
          "model_module_version": "1.5.0",
          "state": {
            "_model_module": "@jupyter-widgets/controls",
            "_model_module_version": "1.5.0",
            "_model_name": "ProgressStyleModel",
            "_view_count": null,
            "_view_module": "@jupyter-widgets/base",
            "_view_module_version": "1.2.0",
            "_view_name": "StyleView",
            "bar_color": null,
            "description_width": ""
          }
        },
        "531df7237c7a4297a07078793fedafbd": {
          "model_module": "@jupyter-widgets/base",
          "model_name": "LayoutModel",
          "model_module_version": "1.2.0",
          "state": {
            "_model_module": "@jupyter-widgets/base",
            "_model_module_version": "1.2.0",
            "_model_name": "LayoutModel",
            "_view_count": null,
            "_view_module": "@jupyter-widgets/base",
            "_view_module_version": "1.2.0",
            "_view_name": "LayoutView",
            "align_content": null,
            "align_items": null,
            "align_self": null,
            "border": null,
            "bottom": null,
            "display": null,
            "flex": null,
            "flex_flow": null,
            "grid_area": null,
            "grid_auto_columns": null,
            "grid_auto_flow": null,
            "grid_auto_rows": null,
            "grid_column": null,
            "grid_gap": null,
            "grid_row": null,
            "grid_template_areas": null,
            "grid_template_columns": null,
            "grid_template_rows": null,
            "height": null,
            "justify_content": null,
            "justify_items": null,
            "left": null,
            "margin": null,
            "max_height": null,
            "max_width": null,
            "min_height": null,
            "min_width": null,
            "object_fit": null,
            "object_position": null,
            "order": null,
            "overflow": null,
            "overflow_x": null,
            "overflow_y": null,
            "padding": null,
            "right": null,
            "top": null,
            "visibility": null,
            "width": null
          }
        },
        "596a011e82aa4774a972c03b06d22579": {
          "model_module": "@jupyter-widgets/controls",
          "model_name": "DescriptionStyleModel",
          "model_module_version": "1.5.0",
          "state": {
            "_model_module": "@jupyter-widgets/controls",
            "_model_module_version": "1.5.0",
            "_model_name": "DescriptionStyleModel",
            "_view_count": null,
            "_view_module": "@jupyter-widgets/base",
            "_view_module_version": "1.2.0",
            "_view_name": "StyleView",
            "description_width": ""
          }
        }
      }
    }
  },
  "cells": [
    {
      "cell_type": "markdown",
      "metadata": {
        "id": "view-in-github",
        "colab_type": "text"
      },
      "source": [
        "<a href=\"https://colab.research.google.com/github/ShreyaaChauhan/Deep_Learning_with_Pytorch/blob/main/AlexNet_pytorch_implementation_from_scratch.ipynb\" target=\"_parent\"><img src=\"https://colab.research.google.com/assets/colab-badge.svg\" alt=\"Open In Colab\"/></a>"
      ]
    },
    {
      "cell_type": "markdown",
      "source": [
        "# Importing Necessary Libraries"
      ],
      "metadata": {
        "id": "ED3uXo0w1cv5"
      }
    },
    {
      "cell_type": "code",
      "execution_count": 14,
      "metadata": {
        "id": "lXIYqq5Hsfwg"
      },
      "outputs": [],
      "source": [
        "#importing the libraries\n",
        "import numpy as np\n",
        "import torch\n",
        "import torch.nn as nn\n",
        "from torchvision import datasets\n",
        "from torchvision import transforms\n",
        "from torch.utils.data.sampler import SubsetRandomSampler\n",
        "\n",
        "# Device agnostic code\n",
        "device = torch.device('cuda' if torch.cuda.is_available() else 'cpu')"
      ]
    },
    {
      "cell_type": "code",
      "source": [
        "device"
      ],
      "metadata": {
        "colab": {
          "base_uri": "https://localhost:8080/"
        },
        "id": "q-Du7ye8tgoF",
        "outputId": "c2f8ab7d-0da1-44d9-a436-2701523adae6"
      },
      "execution_count": 15,
      "outputs": [
        {
          "output_type": "execute_result",
          "data": {
            "text/plain": [
              "device(type='cuda')"
            ]
          },
          "metadata": {},
          "execution_count": 15
        }
      ]
    },
    {
      "cell_type": "markdown",
      "source": [
        "# Loading Datasets"
      ],
      "metadata": {
        "id": "xC9pWYkl1ZUV"
      }
    },
    {
      "cell_type": "code",
      "source": [
        "#Implementation of train data loader\n",
        "def get_train_valid_loader(data_dir, \n",
        "                           batch_size, \n",
        "                           augment, \n",
        "                           random_seed, \n",
        "                           valid_size = 0.1, \n",
        "                           shuffle = True):\n",
        "  \n",
        "  normalize = transforms.Normalize(\n",
        "      mean = [0.4914, 0.4822, 0.4465], \n",
        "      std = [0.2023, 0.1994, 0.2010],\n",
        "    )\n",
        "\n",
        "  #define transforms\n",
        "  valid_transform = transforms.Compose([\n",
        "      transforms.Resize((227,227)), \n",
        "      transforms.ToTensor(),normalize,\n",
        "    ])\n",
        "\n",
        "  if augment:\n",
        "    train_transform = transforms.Compose([\n",
        "            transforms.RandomCrop(32, padding=4),\n",
        "            transforms.RandomHorizontalFlip(),\n",
        "            transforms.ToTensor(),\n",
        "            normalize,\n",
        "        ])\n",
        "  else:\n",
        "    train_transform = transforms.Compose([\n",
        "            transforms.Resize((227,227)),\n",
        "            transforms.ToTensor(),\n",
        "            normalize,\n",
        "    ])\n",
        "  \n",
        "  #load the dataset\n",
        "  train_dataset = datasets.CIFAR10(\n",
        "      root = data_dir, train = True,\n",
        "      download = True, transform = train_transform,\n",
        "  )\n",
        "\n",
        "  valid_dataset = datasets.CIFAR10(\n",
        "      root = data_dir, train = True,\n",
        "      download = True, transform = valid_transform\n",
        "  )\n",
        "\n",
        "  num_train = len(train_dataset)\n",
        "  indices = list(range(num_train))\n",
        "  split = int(np.floor(valid_size * num_train))\n",
        "\n",
        "  if shuffle:\n",
        "    np.random.seed(random_seed)\n",
        "    np.random.shuffle(indices)\n",
        "\n",
        "  train_idx, valid_idx = indices[split:], indices[:split]\n",
        "  train_sampler = SubsetRandomSampler(train_idx)\n",
        "  valid_sampler = SubsetRandomSampler(valid_idx)\n",
        "\n",
        "  train_loader = torch.utils.data.DataLoader(\n",
        "        train_dataset, batch_size=batch_size, sampler=train_sampler)\n",
        "\n",
        "  valid_loader = torch.utils.data.DataLoader(\n",
        "        valid_dataset, batch_size=batch_size, sampler=valid_sampler)\n",
        "  \n",
        "  return (train_loader, valid_loader)\n"
      ],
      "metadata": {
        "id": "8H-OZRCQthHI"
      },
      "execution_count": 16,
      "outputs": []
    },
    {
      "cell_type": "code",
      "source": [
        "#Implementation of train data loader\n",
        "\n",
        "def get_test_loader(data_dir,\n",
        "                           batch_size,\n",
        "                           shuffle = True):\n",
        "  normalize = transforms.Normalize(\n",
        "      mean=[0.485, 0.456, 0.406],\n",
        "      std=[0.229, 0.224, 0.225],\n",
        "      )\n",
        "  \n",
        "  # defince transform\n",
        "  transform = transforms.Compose([\n",
        "      transforms.Resize((227, 227)),\n",
        "      transforms.ToTensor(),\n",
        "      normalize,\n",
        "  ])\n",
        "  \n",
        "  dataset = datasets.CIFAR10(\n",
        "      root=data_dir, train=False,\n",
        "      download=True, transform=transform,\n",
        "  )\n",
        "\n",
        "  data_loader = torch.utils.data.DataLoader(\n",
        "        dataset, batch_size=batch_size, shuffle=shuffle\n",
        "    )\n",
        "  \n",
        "  return data_loader"
      ],
      "metadata": {
        "id": "6_-io1o_1kY1"
      },
      "execution_count": 17,
      "outputs": []
    },
    {
      "cell_type": "code",
      "source": [
        "# CIFAR dataset \n",
        "train_loader , valid_loader = get_train_valid_loader(data_dir='./data',batch_size = 64, augment = False, random_seed = 1)\n",
        "test_loader = get_test_loader(data_dir = './data', batch_size = 64)"
      ],
      "metadata": {
        "colab": {
          "base_uri": "https://localhost:8080/",
          "height": 118,
          "referenced_widgets": [
            "f848e407c4014ead80b52579ff811bc3",
            "57983857d709447aaf67eb614502b0c4",
            "72b17732bd684bb4a0d7947533eb4bc3",
            "7244306c5fe442a88059cc78219e1e8f",
            "2aea39a3346442f882ddf3b8653a5d2a",
            "0c637a8063804208859af061aec7c8c9",
            "36bd4d4c66784e27bd8b22fe2f8112da",
            "468afb5be31046cb8cdadfb807955339",
            "32a79e98118d4ac4ae8d65ea70c07d17",
            "531df7237c7a4297a07078793fedafbd",
            "596a011e82aa4774a972c03b06d22579"
          ]
        },
        "id": "ZA5i5KrU2eEB",
        "outputId": "cb9791ab-6c18-44c0-ccb9-6bbb92a2fc4c"
      },
      "execution_count": 18,
      "outputs": [
        {
          "output_type": "stream",
          "name": "stdout",
          "text": [
            "Downloading https://www.cs.toronto.edu/~kriz/cifar-10-python.tar.gz to ./data/cifar-10-python.tar.gz\n"
          ]
        },
        {
          "output_type": "display_data",
          "data": {
            "text/plain": [
              "  0%|          | 0/170498071 [00:00<?, ?it/s]"
            ],
            "application/vnd.jupyter.widget-view+json": {
              "version_major": 2,
              "version_minor": 0,
              "model_id": "f848e407c4014ead80b52579ff811bc3"
            }
          },
          "metadata": {}
        },
        {
          "output_type": "stream",
          "name": "stdout",
          "text": [
            "Extracting ./data/cifar-10-python.tar.gz to ./data\n",
            "Files already downloaded and verified\n",
            "Files already downloaded and verified\n"
          ]
        }
      ]
    },
    {
      "cell_type": "markdown",
      "source": [
        "# AlexNet from Scratch"
      ],
      "metadata": {
        "id": "TJMuyKCe4JHa"
      }
    },
    {
      "cell_type": "code",
      "source": [
        "class ALexNet(nn.Module):\n",
        "  def __init__(self, num_classes = 10):\n",
        "    super(ALexNet, self).__init__()\n",
        "    self.layer1 = nn.Sequential(\n",
        "        nn.Conv2d(3, 96, kernel_size = 11, stride = 4, padding =0),\n",
        "        nn.BatchNorm2d(96),\n",
        "        nn.ReLU(),\n",
        "        nn.MaxPool2d(kernel_size = 3, stride =2)\n",
        "    )\n",
        "    self.layer2 = nn.Sequential(\n",
        "        nn.Conv2d(96, 256, kernel_size = 5, stride = 1, padding =2),\n",
        "        nn.BatchNorm2d(256),\n",
        "        nn.ReLU(),\n",
        "        nn.MaxPool2d(kernel_size = 3, stride =2)\n",
        "    )\n",
        "    self.layer3 = nn.Sequential(\n",
        "        nn.Conv2d(256, 384, kernel_size = 3, stride = 1, padding =1),\n",
        "        nn.BatchNorm2d(384),\n",
        "        nn.ReLU()\n",
        "    )\n",
        "    self.layer4 = nn.Sequential(\n",
        "            nn.Conv2d(384, 384, kernel_size=3, stride=1, padding=1),\n",
        "            nn.BatchNorm2d(384),\n",
        "            nn.ReLU()\n",
        "    )\n",
        "    self.layer5 = nn.Sequential(\n",
        "            nn.Conv2d(384, 256, kernel_size=3, stride=1, padding=1),\n",
        "            nn.BatchNorm2d(256),\n",
        "            nn.ReLU(),\n",
        "            nn.MaxPool2d(kernel_size = 3, stride = 2)\n",
        "    )\n",
        "    self.fc = nn.Sequential(\n",
        "            nn.Dropout(0.5),\n",
        "            nn.Linear(9216, 4096),\n",
        "            nn.ReLU()\n",
        "    )\n",
        "    self.fc1 = nn.Sequential(\n",
        "            nn.Dropout(0.5),\n",
        "            nn.Linear(4096, 4096),\n",
        "            nn.ReLU()\n",
        "    )\n",
        "    self.fc2= nn.Sequential(\n",
        "            nn.Linear(4096, num_classes)\n",
        "    )\n",
        "\n",
        "  def forward(self,x):\n",
        "    out = self.layer1(x)\n",
        "    out = self.layer2(out)\n",
        "    out = self.layer3(out)\n",
        "    out = self.layer4(out)\n",
        "    out = self.layer5(out)\n",
        "    out = out.reshape(out.size(0), -1)\n",
        "    out = self.fc(out)\n",
        "    out = self.fc1(out)\n",
        "    out = self.fc2(out)\n",
        "    return out\n",
        "  "
      ],
      "metadata": {
        "id": "9mhh4QhG21q3"
      },
      "execution_count": 23,
      "outputs": []
    },
    {
      "cell_type": "markdown",
      "source": [
        "# Setting Hyperparameters"
      ],
      "metadata": {
        "id": "EgwHkXrs7hqX"
      }
    },
    {
      "cell_type": "code",
      "source": [
        "num_classes = 10\n",
        "num_epochs = 20\n",
        "batch_size = 64\n",
        "learning_rate = 0.005\n",
        "\n",
        "model = ALexNet(num_classes).to(device)\n",
        "\n",
        "\n",
        "# Loss and optimizer\n",
        "criterion = nn.CrossEntropyLoss()\n",
        "optimizer = torch.optim.SGD(model.parameters(), lr=learning_rate, weight_decay = 0.005, momentum = 0.9)  \n",
        "\n",
        "\n",
        "# Train the model\n",
        "total_step = len(train_loader)"
      ],
      "metadata": {
        "id": "JyZ5rplh7QYn"
      },
      "execution_count": 24,
      "outputs": []
    },
    {
      "cell_type": "code",
      "source": [
        "for epoch in range(num_epochs):\n",
        "  for i, (images, labels) in enumerate(train_loader):  \n",
        "    # Move tensors to the configured device\n",
        "    images = images.to(device)\n",
        "    labels = labels.to(device)\n",
        "\n",
        "    # Forward pass\n",
        "    outputs = model(images)\n",
        "    loss = criterion(outputs, labels)\n",
        "\n",
        "    # Backward and optimize\n",
        "    optimizer.zero_grad()\n",
        "    loss.backward()\n",
        "    optimizer.step()\n",
        "\n",
        "  print ('Epoch [{}/{}], Step [{}/{}], Loss: {:.4f}' \n",
        "                   .format(epoch+1, num_epochs, i+1, total_step, loss.item()))\n",
        "\n",
        "  # Validation\n",
        "  with torch.no_grad():\n",
        "      correct = 0\n",
        "      total = 0\n",
        "      for images, labels in valid_loader:\n",
        "          images = images.to(device)\n",
        "          labels = labels.to(device)\n",
        "          outputs = model(images)\n",
        "          _, predicted = torch.max(outputs.data, 1)\n",
        "          total += labels.size(0)\n",
        "          correct += (predicted == labels).sum().item()\n",
        "          del images, labels, outputs\n",
        "  \n",
        "      print('Accuracy of the network on the {} validation images: {} %'.format(5000, 100 * correct / total)) "
      ],
      "metadata": {
        "colab": {
          "base_uri": "https://localhost:8080/"
        },
        "id": "N_YMQumr8IIR",
        "outputId": "5715bf2a-acb6-4ffb-d1d3-67ded592d89e"
      },
      "execution_count": 25,
      "outputs": [
        {
          "output_type": "stream",
          "name": "stdout",
          "text": [
            "Epoch [1/20], Step [704/704], Loss: 1.7418\n",
            "Accuracy of the network on the 5000 validation images: 58.58 %\n",
            "Epoch [2/20], Step [704/704], Loss: 0.7812\n",
            "Accuracy of the network on the 5000 validation images: 66.98 %\n",
            "Epoch [3/20], Step [704/704], Loss: 0.8668\n",
            "Accuracy of the network on the 5000 validation images: 70.52 %\n",
            "Epoch [4/20], Step [704/704], Loss: 0.5571\n",
            "Accuracy of the network on the 5000 validation images: 73.86 %\n",
            "Epoch [5/20], Step [704/704], Loss: 0.8577\n",
            "Accuracy of the network on the 5000 validation images: 75.06 %\n",
            "Epoch [6/20], Step [704/704], Loss: 1.3010\n",
            "Accuracy of the network on the 5000 validation images: 76.48 %\n",
            "Epoch [7/20], Step [704/704], Loss: 0.4695\n",
            "Accuracy of the network on the 5000 validation images: 79.14 %\n",
            "Epoch [8/20], Step [704/704], Loss: 0.4944\n",
            "Accuracy of the network on the 5000 validation images: 79.56 %\n",
            "Epoch [9/20], Step [704/704], Loss: 0.7927\n",
            "Accuracy of the network on the 5000 validation images: 80.66 %\n",
            "Epoch [10/20], Step [704/704], Loss: 0.4549\n",
            "Accuracy of the network on the 5000 validation images: 79.72 %\n",
            "Epoch [11/20], Step [704/704], Loss: 0.8660\n",
            "Accuracy of the network on the 5000 validation images: 81.2 %\n",
            "Epoch [12/20], Step [704/704], Loss: 0.6533\n",
            "Accuracy of the network on the 5000 validation images: 80.88 %\n",
            "Epoch [13/20], Step [704/704], Loss: 0.3836\n",
            "Accuracy of the network on the 5000 validation images: 81.94 %\n",
            "Epoch [14/20], Step [704/704], Loss: 0.3892\n",
            "Accuracy of the network on the 5000 validation images: 80.4 %\n",
            "Epoch [15/20], Step [704/704], Loss: 0.1153\n",
            "Accuracy of the network on the 5000 validation images: 82.3 %\n",
            "Epoch [16/20], Step [704/704], Loss: 0.2201\n",
            "Accuracy of the network on the 5000 validation images: 81.8 %\n",
            "Epoch [17/20], Step [704/704], Loss: 0.2698\n",
            "Accuracy of the network on the 5000 validation images: 82.12 %\n",
            "Epoch [18/20], Step [704/704], Loss: 0.4300\n",
            "Accuracy of the network on the 5000 validation images: 81.86 %\n",
            "Epoch [19/20], Step [704/704], Loss: 0.8582\n",
            "Accuracy of the network on the 5000 validation images: 81.66 %\n",
            "Epoch [20/20], Step [704/704], Loss: 0.0708\n",
            "Accuracy of the network on the 5000 validation images: 81.4 %\n"
          ]
        }
      ]
    },
    {
      "cell_type": "code",
      "source": [
        "with torch.no_grad():\n",
        "    correct = 0\n",
        "    total = 0\n",
        "    for images, labels in test_loader:\n",
        "        images = images.to(device)\n",
        "        labels = labels.to(device)\n",
        "        outputs = model(images)\n",
        "        _, predicted = torch.max(outputs.data, 1)\n",
        "        total += labels.size(0)\n",
        "        correct += (predicted == labels).sum().item()\n",
        "        del images, labels, outputs\n",
        "\n",
        "    print('Accuracy of the network on the {} test images: {} %'.format(10000, 100 * correct / total))   "
      ],
      "metadata": {
        "colab": {
          "base_uri": "https://localhost:8080/"
        },
        "id": "_uEU80XF8Jt-",
        "outputId": "95b7e6a4-d441-446b-84d5-976e90e8aed2"
      },
      "execution_count": 26,
      "outputs": [
        {
          "output_type": "stream",
          "name": "stdout",
          "text": [
            "Accuracy of the network on the 10000 test images: 80.71 %\n"
          ]
        }
      ]
    },
    {
      "cell_type": "code",
      "source": [],
      "metadata": {
        "id": "5HznZj-lEQut"
      },
      "execution_count": null,
      "outputs": []
    }
  ]
}
