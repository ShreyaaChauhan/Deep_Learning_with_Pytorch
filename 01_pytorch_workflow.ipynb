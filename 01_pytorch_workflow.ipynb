{
  "nbformat": 4,
  "nbformat_minor": 0,
  "metadata": {
    "colab": {
      "provenance": [],
      "collapsed_sections": [],
      "authorship_tag": "ABX9TyMVytnOckw99jSS0kVFf2cS",
      "include_colab_link": true
    },
    "kernelspec": {
      "name": "python3",
      "display_name": "Python 3"
    },
    "language_info": {
      "name": "python"
    }
  },
  "cells": [
    {
      "cell_type": "markdown",
      "metadata": {
        "id": "view-in-github",
        "colab_type": "text"
      },
      "source": [
        "<a href=\"https://colab.research.google.com/github/ShreyaaChauhan/Deep_Learning_with_Pytorch/blob/main/01_pytorch_workflow.ipynb\" target=\"_parent\"><img src=\"https://colab.research.google.com/assets/colab-badge.svg\" alt=\"Open In Colab\"/></a>"
      ]
    },
    {
      "cell_type": "markdown",
      "source": [
        "# PyTorch Workflow\n",
        "\n",
        "- data (prepare and load)\n",
        "- build model\n",
        "- fitting the model to the data (training)\n",
        "- making predictions and evaluating a model (inference)\n",
        "- saving and loading a model\n",
        "- putting it all together\n",
        "\n"
      ],
      "metadata": {
        "id": "DGZW7eodivyA"
      }
    },
    {
      "cell_type": "code",
      "source": [
        "import torch\n",
        "from torch import nn # nn contains all of PyTorch's building blocks for neural networks\n",
        "import matplotlib.pyplot as plt\n"
      ],
      "metadata": {
        "id": "1QIzjmTTiva-"
      },
      "execution_count": 1,
      "outputs": []
    },
    {
      "cell_type": "markdown",
      "source": [
        "# 1. Data Preparing and loading\n",
        "\n",
        "- Excel spreadsheet\n",
        "- Images of any kind\n",
        "- Videos (Youtube has lots of data)\n",
        "- Audio like songs or podcasts\n",
        "- DNA\n",
        "- Text\n",
        "\n",
        "Machine Learning is a game of two parts:\n",
        "1. get data into a numerical representation.\n",
        "2. Build a model to learn patterns in that numerical representation.\n",
        "\n",
        "\n"
      ],
      "metadata": {
        "id": "MxM6RoPikBUQ"
      }
    },
    {
      "cell_type": "code",
      "execution_count": 2,
      "metadata": {
        "id": "Fcwf-ipoiJUH"
      },
      "outputs": [],
      "source": [
        "# Linear Regression\n",
        "# Create *known* parameters\n",
        "weight = 0.7\n",
        "bias = 0.3\n",
        "\n",
        "# Create\n",
        "start = 0\n",
        "end = 1\n",
        "step = 0.02\n",
        "X = torch.arange(start, end, step).unsqueeze(dim = 1)\n",
        "Y = weight* X + bias"
      ]
    },
    {
      "cell_type": "markdown",
      "source": [
        "### Splitting data into training and test sets "
      ],
      "metadata": {
        "id": "d3UMr-JQl32P"
      }
    },
    {
      "cell_type": "code",
      "source": [
        "# Create a train /test split\n",
        "train_split = int(0.8*len(X))\n",
        "X_train, Y_train = X[: train_split], Y[:train_split]\n",
        "X_test, Y_test = X[train_split:], Y[train_split:]"
      ],
      "metadata": {
        "id": "sdIqPTMllRVD"
      },
      "execution_count": 3,
      "outputs": []
    },
    {
      "cell_type": "code",
      "source": [
        "def plot_predictions(train_data = X_train,\n",
        "                     train_labels = Y_train,\n",
        "                     test_data = X_test,\n",
        "                     test_labels = Y_test,\n",
        "                     predictions = None):\n",
        "  # ===========================================================\n",
        "  #    Plot training data, test data and compare predictions\n",
        "  # ===========================================================\n",
        "  plt.figure(figsize = (10,7))\n",
        "\n",
        "  # Plot training data in blue\n",
        "  plt.scatter(train_data, train_labels, c= \"b\", s=4, label = \"Trainning data\")\n",
        "\n",
        "  # Plot test data in green\n",
        "  plt.scatter(test_data, test_labels, c= \"g\", s=4, label = \"Testing data\")\n",
        "\n",
        "  # Are there predictions?\n",
        "  if predictions is not None:\n",
        "    #Plot the predictions if they exist\n",
        "    plt.scatter(test_data, predictions, c =\"r\", s=4, label=\"Predictions\")\n",
        "\n",
        "    #Show the legend\n",
        "    plt.legend(prop={\"size\":14})\n"
      ],
      "metadata": {
        "id": "OZ7pJ_2SnNPH"
      },
      "execution_count": 4,
      "outputs": []
    },
    {
      "cell_type": "code",
      "source": [
        "plot_predictions()"
      ],
      "metadata": {
        "colab": {
          "base_uri": "https://localhost:8080/",
          "height": 428
        },
        "id": "6kIVz_VhKV1a",
        "outputId": "49562248-e939-4218-8eac-3cf196a8b66f"
      },
      "execution_count": 5,
      "outputs": [
        {
          "output_type": "display_data",
          "data": {
            "text/plain": [
              "<Figure size 720x504 with 1 Axes>"
            ],
            "image/png": "[encoded data removed]"
          },
          "metadata": {
            "needs_background": "light"
          }
        }
      ]
    },
    {
      "cell_type": "markdown",
      "source": [
        "# Build model\n",
        "\n",
        "**What our model does?**\n",
        "* Start with random values (weight & bias)\n",
        "* Look at training data and adjust the random values to better represnet (or get closer to) the ideal values (the weight & bias values we used to create the data)\n",
        "\n",
        "**How does it do so?**\n",
        "\n",
        "Through two main algorithms:\n",
        "1. Gradient descent\n",
        "2. Backpropagation"
      ],
      "metadata": {
        "id": "AHb8_v00KmyJ"
      }
    },
    {
      "cell_type": "code",
      "source": [
        "#Create linear regression model class\n",
        "class LinearRegression(nn.Module): #<- almost everything in Pytorch inherits from nn.Module\n",
        "  def __init__(self):\n",
        "    super().__init__()\n",
        "    # Initialize model parameters\n",
        "    self.weights = nn.Parameter(torch.randn(1, requires_grad = True,dtype= torch.float))\n",
        "    self.bias = nn.Parameter(torch.randn(1, requires_grad = True, dtype= torch.float))\n",
        "\n",
        "    # Forward method to define the computation in the model\n",
        "  def forward(self, x:torch.Tensor) -> torch.Tensor: # <- \"x is the input data\"\n",
        "    return self.weights * x + self.bias # this is the linear regression formula\n"
      ],
      "metadata": {
        "id": "ORCCF95TKYUL"
      },
      "execution_count": 6,
      "outputs": []
    },
    {
      "cell_type": "markdown",
      "source": [
        "# Pytorch model building essentials\n",
        "\n",
        "\n",
        "* torch.nn - conatins all of the building blocks for computational graphs (another word for neural networks)\n",
        "* torch.nn.Parameter - what parameters should our model try and learn, often a PyTorch layer from torch.nn will set these for us\n",
        "* torch.nn.Module - The base class for all neural network modules, if you subclass it, you should overwrite forward()\n",
        "* torch.optim - this is where the optimizers in Pytorch live, they will help with the gradient descent\n",
        "* torch.utils.data.Dataset - Represents a map between key (label) and sample (features) pairs of your data. Such as images and their associated labels\n",
        "* torch.utils.data.DataLoader Creates a Python iterable over a torch Dataset(allow you to iterate over your data)\n",
        "* def forward() - All nn.Module subclasses require you ti overwrite forward(), this method defines what happens in the forwards computation"
      ],
      "metadata": {
        "id": "4HdRJSWgSbJ-"
      }
    },
    {
      "cell_type": "markdown",
      "source": [
        "### Checking the contents of our PyTorch model"
      ],
      "metadata": {
        "id": "0mGdMmVScDi2"
      }
    },
    {
      "cell_type": "code",
      "source": [
        "\n",
        "\n",
        "# CReate an instance of the moce (this is a subclass of nn.Module)\n",
        "model_0 = LinearRegression()"
      ],
      "metadata": {
        "id": "1eg_xT74SZ_A"
      },
      "execution_count": 7,
      "outputs": []
    },
    {
      "cell_type": "code",
      "source": [
        "# List out the parameters\n",
        "list(model_0.parameters())"
      ],
      "metadata": {
        "colab": {
          "base_uri": "https://localhost:8080/"
        },
        "id": "a8OuvoT2ixPk",
        "outputId": "0f520165-7a4f-47c6-913b-cc1dd9829c84"
      },
      "execution_count": 8,
      "outputs": [
        {
          "output_type": "execute_result",
          "data": {
            "text/plain": [
              "[Parameter containing:\n",
              " tensor([0.8328], requires_grad=True), Parameter containing:\n",
              " tensor([1.1359], requires_grad=True)]"
            ]
          },
          "metadata": {},
          "execution_count": 8
        }
      ]
    },
    {
      "cell_type": "code",
      "source": [
        "# List named parameters\n",
        "model_0.state_dict()"
      ],
      "metadata": {
        "colab": {
          "base_uri": "https://localhost:8080/"
        },
        "id": "3aC2ta1ciyPJ",
        "outputId": "c22ad1c6-e3d3-4b12-a7b0-6c2843fc07d3"
      },
      "execution_count": 9,
      "outputs": [
        {
          "output_type": "execute_result",
          "data": {
            "text/plain": [
              "OrderedDict([('weights', tensor([0.8328])), ('bias', tensor([1.1359]))])"
            ]
          },
          "metadata": {},
          "execution_count": 9
        }
      ]
    },
    {
      "cell_type": "code",
      "source": [
        "weight, bias"
      ],
      "metadata": {
        "colab": {
          "base_uri": "https://localhost:8080/"
        },
        "id": "mWQxwEsQjXVR",
        "outputId": "00f098a1-d54f-48c8-8ee4-8f680adc8cb3"
      },
      "execution_count": 10,
      "outputs": [
        {
          "output_type": "execute_result",
          "data": {
            "text/plain": [
              "(0.7, 0.3)"
            ]
          },
          "metadata": {},
          "execution_count": 10
        }
      ]
    },
    {
      "cell_type": "markdown",
      "source": [
        "### Making prediction using `torch.inference_mode()`"
      ],
      "metadata": {
        "id": "BQm4VPhmjxWl"
      }
    },
    {
      "cell_type": "code",
      "source": [
        "# Make predictions with model\n",
        "with torch.inference_mode():\n",
        "  Y_preds = model_0(X_test)\n",
        "  \n",
        "# You can also do something similar with torch.no)grad(), however, torch.inference_mode() is preferred\n",
        "with torch.no_grad():\n",
        "  Y_preds = model_0(X_test)\n",
        "\n",
        "plot_predictions(predictions=Y_preds)"
      ],
      "metadata": {
        "colab": {
          "base_uri": "https://localhost:8080/",
          "height": 428
        },
        "id": "NjcpNGKnji1k",
        "outputId": "144dbd00-9f19-4001-b910-0aa23cbeb7b1"
      },
      "execution_count": 11,
      "outputs": [
        {
          "output_type": "display_data",
          "data": {
            "text/plain": [
              "<Figure size 720x504 with 1 Axes>"
            ],
            "image/png": "[encoded data removed]"
          },
          "metadata": {
            "needs_background": "light"
          }
        }
      ]
    },
    {
      "cell_type": "markdown",
      "source": [
        "# Train model\n",
        "\n",
        "The model idea of training is for a model to move from some *unknown* parameter (these may be random) to some *known* parameters\n",
        "\n",
        "Or in other words from a poor representation of the data to a better representation\n",
        "\n",
        "One way to measure how poor on how wrong your models predictions are is to use a loss function/ cost function/ criterion \n",
        "\n",
        "Things we need to train\n",
        "\n",
        "**Loss function:** A function to measure how wrong your model's predictions are to the idel outputs, lower is better\n",
        "\n",
        "**Optimizer:** Take into account the loss of a model and adjusts the model's parameters(e.g weight & bias) to improve the loss function\n",
        "\n",
        "Inside the optimizer we'll often have to set two parameters:\n",
        "- params - the model parameters we'd like to optimize. e.g `params = model_0.parameters()`\n",
        "\n",
        "- lr (learning rate) - the learning rate is a hyperparameter tha defines how big/small the optimizer changes the parameters with each step (a small lr results in small changes, a large lr results in larger changes)\n"
      ],
      "metadata": {
        "id": "0H1m17XIpIIL"
      }
    },
    {
      "cell_type": "markdown",
      "source": [
        "and specifically for PyTorch, we need:\n",
        "\n",
        "- A training loop\n",
        "- A testing loop"
      ],
      "metadata": {
        "id": "_hKgBe1Ws6QP"
      }
    },
    {
      "cell_type": "code",
      "source": [
        "# Set up loss function\n",
        "loss_fn = nn.L1Loss()\n",
        "\n",
        "# Setup an optimizer (stochastic gradient descent)\n",
        "optimizer = torch.optim.SGD(params = model_0.parameters(), lr = 0.01)"
      ],
      "metadata": {
        "id": "VKw8-9nXmy_m"
      },
      "execution_count": 12,
      "outputs": []
    },
    {
      "cell_type": "markdown",
      "source": [
        "# Build a training loop (amd a testing loop) in PyTorch\n",
        "\n",
        "Following are the things that we need in our training loop:-\n",
        "0. Loop through the data\n",
        "1. Forward pass (this involves data moving through our model's `forward()` functions) to make predictions on data - also called forward propagation\n",
        "2. Calculate the loss (compare forward pass predictions to the ground truth labels)\n",
        "3. Optimizer zero grad\n",
        "4. Loss backward - move backwards through the network to calculate the gradients of each of the parameters of our model with respect to the loss (**backpropagation**)\n",
        "5. Optimizer step - use the optimizer to adjust our model's parameters to try and improve the loss (**gradiend descent**)\n"
      ],
      "metadata": {
        "id": "p_HkVD2UxD3f"
      }
    },
    {
      "cell_type": "code",
      "source": [
        "torch.manual_seed(42)\n",
        "# An epoch is one loop through the data...\n",
        "epochs = 200\n",
        "\n",
        "#track different values\n",
        "epoch_count = []\n",
        "loss_values = []\n",
        "test_loss_values = []\n",
        "\n",
        "# 0. Loop through the data\n",
        "for epoch in range(epochs):\n",
        "  # Set the model to training mode\n",
        "  model_0.train() # train mode in PyTorch sets all parameters that require gradients to require gradients\n",
        "  # 1. Foraward pass \n",
        "  y_pred = model_0(X_train)\n",
        "  # 2. calculate the loss \n",
        "  loss = loss_fn(y_pred, Y_train)\n",
        "  # 3. Optimizer zero grad\n",
        "  optimizer.zero_grad()\n",
        "  # 4. Perform backpropagation on the loss with respect to the parameters of the model\n",
        "  loss.backward()\n",
        "  # 5. Step the optimizer (perform gradient descent)\n",
        "  optimizer.step() # by default how the optimizer changes will accumulate through the loop so.. we have tp zero them above step 3\n",
        "  \n",
        "  #Testing \n",
        "  model_0.eval()# turns of different settings in the model not needed for evaluation/testing\n",
        "  with torch.inference_mode(): #turns off gradient tracking & a couple more things behind the scenes \n",
        "    # Do the forward pass\n",
        "    test_pred = model_0(X_test)\n",
        "\n",
        "    # Clculate the loss\n",
        "    test_loss = loss_fn(test_pred, Y_test)\n",
        "  if epoch % 10 ==0:\n",
        "    epoch_count.append(epoch)\n",
        "    loss_values.append(loss)\n",
        "    test_loss_values.append(test_loss)\n",
        "    print(f\"Epoch: {epoch} | Test: {loss} | Test loss: {test_loss}\")\n",
        "    print(model_0.state_dict(), epoch)\n",
        "\n",
        "  #print(model_0.state_dict(), epoch)"
      ],
      "metadata": {
        "colab": {
          "base_uri": "https://localhost:8080/"
        },
        "id": "_QiAX7gnytwV",
        "outputId": "076840b4-1cf6-40c4-b862-3f1cff48a911"
      },
      "execution_count": 13,
      "outputs": [
        {
          "output_type": "stream",
          "name": "stdout",
          "text": [
            "Epoch: 0 | Test: 0.8876555562019348 | Test loss: 0.9405627250671387\n",
            "OrderedDict([('weights', tensor([0.8289])), ('bias', tensor([1.1259]))]) 0\n",
            "Epoch: 10 | Test: 0.772445797920227 | Test loss: 0.8058528900146484\n",
            "OrderedDict([('weights', tensor([0.7899])), ('bias', tensor([1.0259]))]) 10\n",
            "Epoch: 20 | Test: 0.6572359204292297 | Test loss: 0.6711430549621582\n",
            "OrderedDict([('weights', tensor([0.7509])), ('bias', tensor([0.9259]))]) 20\n",
            "Epoch: 30 | Test: 0.5420259833335876 | Test loss: 0.536433219909668\n",
            "OrderedDict([('weights', tensor([0.7119])), ('bias', tensor([0.8259]))]) 30\n",
            "Epoch: 40 | Test: 0.4268161356449127 | Test loss: 0.40172338485717773\n",
            "OrderedDict([('weights', tensor([0.6729])), ('bias', tensor([0.7259]))]) 40\n",
            "Epoch: 50 | Test: 0.311606228351593 | Test loss: 0.2670135796070099\n",
            "OrderedDict([('weights', tensor([0.6339])), ('bias', tensor([0.6259]))]) 50\n",
            "Epoch: 60 | Test: 0.1963963806629181 | Test loss: 0.13230371475219727\n",
            "OrderedDict([('weights', tensor([0.5949])), ('bias', tensor([0.5259]))]) 60\n",
            "Epoch: 70 | Test: 0.08118651807308197 | Test loss: 0.007400089409202337\n",
            "OrderedDict([('weights', tensor([0.5559])), ('bias', tensor([0.4259]))]) 70\n",
            "Epoch: 80 | Test: 0.03230544552206993 | Test loss: 0.06463131308555603\n",
            "OrderedDict([('weights', tensor([0.5472])), ('bias', tensor([0.3714]))]) 80\n",
            "Epoch: 90 | Test: 0.028188228607177734 | Test loss: 0.06396807730197906\n",
            "OrderedDict([('weights', tensor([0.5620])), ('bias', tensor([0.3589]))]) 90\n",
            "Epoch: 100 | Test: 0.024725833907723427 | Test loss: 0.05706929415464401\n",
            "OrderedDict([('weights', tensor([0.5787])), ('bias', tensor([0.3509]))]) 100\n",
            "Epoch: 110 | Test: 0.02128702402114868 | Test loss: 0.04879675433039665\n",
            "OrderedDict([('weights', tensor([0.5959])), ('bias', tensor([0.3439]))]) 110\n",
            "Epoch: 120 | Test: 0.01785307563841343 | Test loss: 0.04121110588312149\n",
            "OrderedDict([('weights', tensor([0.6128])), ('bias', tensor([0.3364]))]) 120\n",
            "Epoch: 130 | Test: 0.014422208070755005 | Test loss: 0.03293855860829353\n",
            "OrderedDict([('weights', tensor([0.6300])), ('bias', tensor([0.3294]))]) 130\n",
            "Epoch: 140 | Test: 0.010983406566083431 | Test loss: 0.024666016921401024\n",
            "OrderedDict([('weights', tensor([0.6471])), ('bias', tensor([0.3224]))]) 140\n",
            "Epoch: 150 | Test: 0.007551142480224371 | Test loss: 0.01708034798502922\n",
            "OrderedDict([('weights', tensor([0.6641])), ('bias', tensor([0.3149]))]) 150\n",
            "Epoch: 160 | Test: 0.0041185966692864895 | Test loss: 0.00880778394639492\n",
            "OrderedDict([('weights', tensor([0.6812])), ('bias', tensor([0.3079]))]) 160\n",
            "Epoch: 170 | Test: 0.007566007785499096 | Test loss: 0.0069513083435595036\n",
            "OrderedDict([('weights', tensor([0.6940])), ('bias', tensor([0.2984]))]) 170\n",
            "Epoch: 180 | Test: 0.007566007785499096 | Test loss: 0.0069513083435595036\n",
            "OrderedDict([('weights', tensor([0.6940])), ('bias', tensor([0.2984]))]) 180\n",
            "Epoch: 190 | Test: 0.007566007785499096 | Test loss: 0.0069513083435595036\n",
            "OrderedDict([('weights', tensor([0.6940])), ('bias', tensor([0.2984]))]) 190\n"
          ]
        }
      ]
    },
    {
      "cell_type": "code",
      "source": [
        "import numpy as np\n",
        "#plot the loss cureves\n",
        "plt.plot(epoch_count, torch.tensor(loss_values).numpy(), label = \"Train loss\")\n",
        "plt.plot(epoch_count, np.array(test_loss_values), label = \"test loss\")\n",
        "plt.title(\"Training and test loss curves\")\n",
        "plt.ylabel(\"Loss\")\n",
        "plt.xlabel(\"Epochs\")\n",
        "plt.legend()"
      ],
      "metadata": {
        "colab": {
          "base_uri": "https://localhost:8080/",
          "height": 313
        },
        "id": "iYh7SFtPqq90",
        "outputId": "8dd7ffcb-6061-427d-8b55-9a34776a75b8"
      },
      "execution_count": 14,
      "outputs": [
        {
          "output_type": "execute_result",
          "data": {
            "text/plain": [
              "<matplotlib.legend.Legend at 0x7f7a956a0950>"
            ]
          },
          "metadata": {},
          "execution_count": 14
        },
        {
          "output_type": "display_data",
          "data": {
            "text/plain": [
              "<Figure size 432x288 with 1 Axes>"
            ],
            "image/png": "[encoded data removed]"
          },
          "metadata": {
            "needs_background": "light"
          }
        }
      ]
    },
    {
      "cell_type": "markdown",
      "source": [
        "**Learning Rate**: Learnign rate schedules seek to adjust the learning rate during training by reducing the learning rate according to pre-defined schedule \n",
        "Common learning rate schedules includes:-\n",
        "\n",
        "- Time based decay\n",
        "- Step decay\n",
        "- Exponential decay"
      ],
      "metadata": {
        "id": "0Y-uvUnc5iE4"
      }
    },
    {
      "cell_type": "code",
      "source": [
        "model_0.state_dict()"
      ],
      "metadata": {
        "colab": {
          "base_uri": "https://localhost:8080/"
        },
        "id": "mccZ8VNy58EG",
        "outputId": "c93aad3b-43b3-48fb-ae09-c51b2893e817"
      },
      "execution_count": 15,
      "outputs": [
        {
          "output_type": "execute_result",
          "data": {
            "text/plain": [
              "OrderedDict([('weights', tensor([0.6979])), ('bias', tensor([0.3084]))])"
            ]
          },
          "metadata": {},
          "execution_count": 15
        }
      ]
    },
    {
      "cell_type": "code",
      "source": [
        "with torch.inference_mode():\n",
        "  y_preds_new = model_0(X_test)"
      ],
      "metadata": {
        "id": "fkfvp6RrgHId"
      },
      "execution_count": 16,
      "outputs": []
    },
    {
      "cell_type": "code",
      "source": [
        "plot_predictions(predictions=y_preds_new)"
      ],
      "metadata": {
        "colab": {
          "base_uri": "https://localhost:8080/",
          "height": 428
        },
        "id": "t6fvP2UHj0Iw",
        "outputId": "3aa878d6-c137-492d-c19f-18beb1493fc7"
      },
      "execution_count": 17,
      "outputs": [
        {
          "output_type": "display_data",
          "data": {
            "text/plain": [
              "<Figure size 720x504 with 1 Axes>"
            ],
            "image/png": "[encoded data removed]"
          },
          "metadata": {
            "needs_background": "light"
          }
        }
      ]
    },
    {
      "cell_type": "markdown",
      "source": [
        "# Saving a model in PyTorch\n",
        "\n",
        "There are three main methods for saving and loading models in PyTorch\n",
        "\n",
        "1. `torch.save()` - allows you to save a PyTorch object in Python's pickle format\n",
        "2. `torch.load()` - allows you load a saved PyTorch object\n",
        "3. `torch.nn.Module.load_state_dict()` - this allows to load a model's saved state dictionary"
      ],
      "metadata": {
        "id": "K9TWPuzgs2wM"
      }
    },
    {
      "cell_type": "code",
      "source": [
        "# saving our PyTorch model\n",
        "from pathlib import Path\n",
        "\n",
        "# Create models directory\n",
        "MODEL_PATH = Path(\"models\")\n",
        "MODEL_PATH.mkdir(parents=True, exist_ok = True)\n",
        "\n",
        "# Create model save path\n",
        "MODEL_NAME = \"01_pytorch_workflow_model_0.pth\"\n",
        "MODEL_SAVE_PATH = MODEL_PATH /MODEL_NAME\n",
        "\n",
        "# Save the model state dict\n",
        "print(f\"Saving model to: {MODEL_SAVE_PATH}\")\n",
        "torch.save(obj = model_0.state_dict(), f = MODEL_SAVE_PATH)"
      ],
      "metadata": {
        "colab": {
          "base_uri": "https://localhost:8080/"
        },
        "id": "Np1ZLNNPj7OZ",
        "outputId": "2bfcb3da-19ff-4dbd-cbf0-b371b5f2763c"
      },
      "execution_count": 18,
      "outputs": [
        {
          "output_type": "stream",
          "name": "stdout",
          "text": [
            "Saving model to: models/01_pytorch_workflow_model_0.pth\n"
          ]
        }
      ]
    },
    {
      "cell_type": "markdown",
      "source": [
        "## Loading a PyTorch model\n",
        "\n",
        "Since we saved our model's `state_dict()` rather than the entire model, we'll create a new instance of our model class and load the saved `state_dict()` into that "
      ],
      "metadata": {
        "id": "H-cujKTSzQrh"
      }
    },
    {
      "cell_type": "code",
      "source": [
        "# To load in a saved state_dict we have to instantiate a new instance odf our model class\n",
        "loaded_model_o = LinearRegression()\n",
        "\n",
        "# Load the saved state_dict of model_0 (this will update the new instance with upadted parameters)\n",
        "loaded_model_o.load_state_dict(torch.load(f=MODEL_SAVE_PATH))"
      ],
      "metadata": {
        "colab": {
          "base_uri": "https://localhost:8080/"
        },
        "id": "vAiomum8wDLo",
        "outputId": "00e3995d-abd5-41fc-e7d5-f17805bdb786"
      },
      "execution_count": 19,
      "outputs": [
        {
          "output_type": "execute_result",
          "data": {
            "text/plain": [
              "<All keys matched successfully>"
            ]
          },
          "metadata": {},
          "execution_count": 19
        }
      ]
    },
    {
      "cell_type": "code",
      "source": [
        "loaded_model_o.state_dict()"
      ],
      "metadata": {
        "colab": {
          "base_uri": "https://localhost:8080/"
        },
        "id": "_9C_nTup43R5",
        "outputId": "ce3733be-5e37-468e-861a-472ab396d926"
      },
      "execution_count": 20,
      "outputs": [
        {
          "output_type": "execute_result",
          "data": {
            "text/plain": [
              "OrderedDict([('weights', tensor([0.6979])), ('bias', tensor([0.3084]))])"
            ]
          },
          "metadata": {},
          "execution_count": 20
        }
      ]
    },
    {
      "cell_type": "markdown",
      "source": [
        "# Putting it all together"
      ],
      "metadata": {
        "id": "MOCpmvVf5-Qw"
      }
    },
    {
      "cell_type": "code",
      "source": [
        "# Import PyTorch and matplotlib\n",
        "import torch\n",
        "from torch import nn\n",
        "import matplotlib.pyplot as plt\n",
        "\n",
        "# Check PyTorch version\n",
        "torch.__version__"
      ],
      "metadata": {
        "colab": {
          "base_uri": "https://localhost:8080/",
          "height": 35
        },
        "id": "QUfigf6E5c8y",
        "outputId": "3818030f-8d7b-47a1-94d8-a23ef810c79d"
      },
      "execution_count": 21,
      "outputs": [
        {
          "output_type": "execute_result",
          "data": {
            "text/plain": [
              "'1.12.1+cu113'"
            ],
            "application/vnd.google.colaboratory.intrinsic+json": {
              "type": "string"
            }
          },
          "metadata": {},
          "execution_count": 21
        }
      ]
    },
    {
      "cell_type": "markdown",
      "source": [
        "Create device-agnostic code. \n",
        "\n",
        "This means if we've got access to a GPU, our code will use it (for potentially faster computing) If no GPU is available, the code will default to using CPU"
      ],
      "metadata": {
        "id": "AJTl9GX66htJ"
      }
    },
    {
      "cell_type": "code",
      "source": [
        "# Setup device agnostic code\n",
        "device = \"cuda\" if torch.cuda.is_available() else \"cpu\"\n",
        "print(f\"Using device: {device}\")"
      ],
      "metadata": {
        "colab": {
          "base_uri": "https://localhost:8080/"
        },
        "id": "RJNLjm0I6cLM",
        "outputId": "e2ccfb0b-5f0c-431b-bd2b-19362feee276"
      },
      "execution_count": 22,
      "outputs": [
        {
          "output_type": "stream",
          "name": "stdout",
          "text": [
            "Using device: cpu\n"
          ]
        }
      ]
    },
    {
      "cell_type": "markdown",
      "source": [
        "Data"
      ],
      "metadata": {
        "id": "9w8JnTcW7Q64"
      }
    },
    {
      "cell_type": "code",
      "source": [
        "# Create some data usinh the linear regression formula of y=weight *X + bias\n",
        "weight = 0.7\n",
        "bias = 0.3\n",
        "\n",
        "# Create range value\n",
        "start = 0\n",
        "end = 1\n",
        "step = 0.02\n",
        "\n",
        "# Create X and Y (features and labels)\n",
        "X = torch.arange(start,end, step).unsqueeze(dim =1) #without insqueeze, errors will pop\n",
        "Y = weight * X + bias\n",
        "X[:10], Y[:10]"
      ],
      "metadata": {
        "colab": {
          "base_uri": "https://localhost:8080/"
        },
        "id": "mWYWcknx7L11",
        "outputId": "4367e974-bd06-49fe-9551-872a8bf7eff1"
      },
      "execution_count": 23,
      "outputs": [
        {
          "output_type": "execute_result",
          "data": {
            "text/plain": [
              "(tensor([[0.0000],\n",
              "         [0.0200],\n",
              "         [0.0400],\n",
              "         [0.0600],\n",
              "         [0.0800],\n",
              "         [0.1000],\n",
              "         [0.1200],\n",
              "         [0.1400],\n",
              "         [0.1600],\n",
              "         [0.1800]]), tensor([[0.3000],\n",
              "         [0.3140],\n",
              "         [0.3280],\n",
              "         [0.3420],\n",
              "         [0.3560],\n",
              "         [0.3700],\n",
              "         [0.3840],\n",
              "         [0.3980],\n",
              "         [0.4120],\n",
              "         [0.4260]]))"
            ]
          },
          "metadata": {},
          "execution_count": 23
        }
      ]
    },
    {
      "cell_type": "code",
      "source": [
        "# Split data\n",
        "train_split = int(0.8*len(X))\n",
        "X_train, Y_train = X[:train_split], Y[:train_split]\n",
        "X_test, Y_test = X[train_split:], Y[train_split:]\n",
        "len(X_train), len(Y_train), len(X_test), len(Y_test)"
      ],
      "metadata": {
        "colab": {
          "base_uri": "https://localhost:8080/"
        },
        "id": "7Mj6ttx18Z0X",
        "outputId": "4211ae27-2800-4900-8dcb-2d031e8c7d15"
      },
      "execution_count": 24,
      "outputs": [
        {
          "output_type": "execute_result",
          "data": {
            "text/plain": [
              "(40, 40, 10, 10)"
            ]
          },
          "metadata": {},
          "execution_count": 24
        }
      ]
    },
    {
      "cell_type": "code",
      "source": [
        "# Plot the data\n",
        "plot_predictions(X_train, Y_train, X_test, Y_test)"
      ],
      "metadata": {
        "colab": {
          "base_uri": "https://localhost:8080/",
          "height": 428
        },
        "id": "oksXNllw87_e",
        "outputId": "7995f505-f015-47ad-9f22-f63899d244e9"
      },
      "execution_count": 25,
      "outputs": [
        {
          "output_type": "display_data",
          "data": {
            "text/plain": [
              "<Figure size 720x504 with 1 Axes>"
            ],
            "image/png": "[encoded data removed]"
          },
          "metadata": {
            "needs_background": "light"
          }
        }
      ]
    },
    {
      "cell_type": "markdown",
      "source": [
        "# Building a PyTorch Linear Model"
      ],
      "metadata": {
        "id": "8Rceol639hnZ"
      }
    },
    {
      "cell_type": "code",
      "source": [
        "# Create a linear model by subsclassing nn.Module\n",
        "class LinearRegressionV2(nn.Module):\n",
        "  def __init__(self):\n",
        "    super().__init__()\n",
        "    # Use nn.Linear() fpr creating the model parameters /also called: linear transform, fully connected layer, dense layer\n",
        "    self.linear_layer = nn.Linear(in_features = 1, out_features=1)\n",
        "  \n",
        "  def forward(self, x: torch.Tensor) -> torch.Tensor:\n",
        "    return self.linear_layer(x)\n",
        "\n",
        "# Set the manual seed \n",
        "torch.manual_seed(42)\n",
        "model_1 = LinearRegressionV2()\n",
        "model_1, model_1.state_dict()\n"
      ],
      "metadata": {
        "colab": {
          "base_uri": "https://localhost:8080/"
        },
        "id": "lyVJMqdd9ONc",
        "outputId": "1ff6778d-7727-4e5a-c7d8-db6a4e5b332a"
      },
      "execution_count": 26,
      "outputs": [
        {
          "output_type": "execute_result",
          "data": {
            "text/plain": [
              "(LinearRegressionV2(\n",
              "   (linear_layer): Linear(in_features=1, out_features=1, bias=True)\n",
              " ),\n",
              " OrderedDict([('linear_layer.weight', tensor([[0.7645]])),\n",
              "              ('linear_layer.bias', tensor([0.8300]))]))"
            ]
          },
          "metadata": {},
          "execution_count": 26
        }
      ]
    },
    {
      "cell_type": "code",
      "source": [
        "# Check the model current device\n",
        "next(model_1.parameters()).device"
      ],
      "metadata": {
        "colab": {
          "base_uri": "https://localhost:8080/"
        },
        "id": "MhmjQRp__UTO",
        "outputId": "d2e43b1d-0212-450d-ee6c-2fbc45acd281"
      },
      "execution_count": 27,
      "outputs": [
        {
          "output_type": "execute_result",
          "data": {
            "text/plain": [
              "device(type='cpu')"
            ]
          },
          "metadata": {},
          "execution_count": 27
        }
      ]
    },
    {
      "cell_type": "code",
      "source": [
        "# set the model to use the target device\n",
        "model_1.to(device)\n",
        "next(model_1.parameters()).device"
      ],
      "metadata": {
        "colab": {
          "base_uri": "https://localhost:8080/"
        },
        "id": "smvIWdR6AA6B",
        "outputId": "f8a7983c-2881-42f4-bbac-f93ad3b22983"
      },
      "execution_count": 28,
      "outputs": [
        {
          "output_type": "execute_result",
          "data": {
            "text/plain": [
              "device(type='cpu')"
            ]
          },
          "metadata": {},
          "execution_count": 28
        }
      ]
    },
    {
      "cell_type": "markdown",
      "source": [
        "# Training\n",
        "\n",
        "For trainng we need\n",
        "\n",
        "- Loss function\n",
        "- Optimizer\n",
        "- Training Loop \n",
        "- Testing Loop\n"
      ],
      "metadata": {
        "id": "azgWUqVJAbKr"
      }
    },
    {
      "cell_type": "code",
      "source": [
        "# Setup loss function \n",
        "loss_fn = nn.L1Loss() # same as MAE\n",
        "\n",
        "# Setup our otimizer\n",
        "optimizer = torch.optim.SGD(params = model_1.parameters(), lr = 0.01)"
      ],
      "metadata": {
        "id": "7CDA0_H6AGDg"
      },
      "execution_count": 29,
      "outputs": []
    },
    {
      "cell_type": "code",
      "source": [
        "# Let's write a training loop\n",
        "torch.manual_seed(42)\n",
        "\n",
        "epochs = 200\n",
        "\n",
        "# Out data in the target device (device agnostic code for data)\n",
        "X_train = X_train.to(device)\n",
        "Y_train = Y_train.to(device)\n",
        "X_test = X_test.to(device)\n",
        "Y_test = Y_test.to(device)\n",
        "\n",
        "for epoch in range(epochs):\n",
        "  model_1.train()\n",
        "\n",
        "  # 1. Forward pass\n",
        "  y_pred = model_1(X_train)\n",
        "\n",
        "  # 2. Calculaye the loss\n",
        "  loss = loss_fn(y_pred, Y_train)\n",
        "\n",
        "  # 3. Optimizer zero grad\n",
        "  optimizer.zero_grad()\n",
        "\n",
        "  # 4. Perform backpropagation\n",
        "  loss.backward()\n",
        "\n",
        "  # 5. Optimizer step\n",
        "  optimizer.step()\n",
        "\n",
        "  ## testing\n",
        "  model_1.eval()\n",
        "  with torch.inference_mode():\n",
        "    test_pred = model_1(X_test)\n",
        "\n",
        "    test_loss = loss_fn(test_pred, Y_test)\n",
        "\n",
        "  # print out what's happening\n",
        "\n",
        "  if epoch % 10 ==0:\n",
        "    print(f\"Epoch: {epoch} | Loss: {loss} | Test loss: {test_loss}\")"
      ],
      "metadata": {
        "colab": {
          "base_uri": "https://localhost:8080/"
        },
        "id": "3fkvWpM6kLsL",
        "outputId": "e991a81b-658a-4474-8c3c-f0c50017881d"
      },
      "execution_count": 35,
      "outputs": [
        {
          "output_type": "stream",
          "name": "stdout",
          "text": [
            "Epoch: 0 | Loss: 0.010256484150886536 | Test loss: 0.0003308236482553184\n",
            "Epoch: 10 | Loss: 0.010256484150886536 | Test loss: 0.0003308236482553184\n",
            "Epoch: 20 | Loss: 0.010256484150886536 | Test loss: 0.0003308236482553184\n",
            "Epoch: 30 | Loss: 0.010256484150886536 | Test loss: 0.0003308236482553184\n",
            "Epoch: 40 | Loss: 0.010256484150886536 | Test loss: 0.0003308236482553184\n",
            "Epoch: 50 | Loss: 0.010256484150886536 | Test loss: 0.0003308236482553184\n",
            "Epoch: 60 | Loss: 0.010256484150886536 | Test loss: 0.0003308236482553184\n",
            "Epoch: 70 | Loss: 0.010256484150886536 | Test loss: 0.0003308236482553184\n",
            "Epoch: 80 | Loss: 0.010256484150886536 | Test loss: 0.0003308236482553184\n",
            "Epoch: 90 | Loss: 0.010256484150886536 | Test loss: 0.0003308236482553184\n",
            "Epoch: 100 | Loss: 0.010256484150886536 | Test loss: 0.0003308236482553184\n",
            "Epoch: 110 | Loss: 0.010256484150886536 | Test loss: 0.0003308236482553184\n",
            "Epoch: 120 | Loss: 0.010256484150886536 | Test loss: 0.0003308236482553184\n",
            "Epoch: 130 | Loss: 0.010256484150886536 | Test loss: 0.0003308236482553184\n",
            "Epoch: 140 | Loss: 0.010256484150886536 | Test loss: 0.0003308236482553184\n",
            "Epoch: 150 | Loss: 0.010256484150886536 | Test loss: 0.0003308236482553184\n",
            "Epoch: 160 | Loss: 0.010256484150886536 | Test loss: 0.0003308236482553184\n",
            "Epoch: 170 | Loss: 0.010256484150886536 | Test loss: 0.0003308236482553184\n",
            "Epoch: 180 | Loss: 0.010256484150886536 | Test loss: 0.0003308236482553184\n",
            "Epoch: 190 | Loss: 0.010256484150886536 | Test loss: 0.0003308236482553184\n"
          ]
        }
      ]
    },
    {
      "cell_type": "code",
      "source": [
        "model_1.state_dict()"
      ],
      "metadata": {
        "colab": {
          "base_uri": "https://localhost:8080/"
        },
        "id": "QK125u-mkQt5",
        "outputId": "370b59d9-9313-41e4-e172-e9ff941549c1"
      },
      "execution_count": 36,
      "outputs": [
        {
          "output_type": "execute_result",
          "data": {
            "text/plain": [
              "OrderedDict([('linear_layer.weight', tensor([[0.6929]])),\n",
              "             ('linear_layer.bias', tensor([0.2925]))])"
            ]
          },
          "metadata": {},
          "execution_count": 36
        }
      ]
    },
    {
      "cell_type": "markdown",
      "source": [
        "# Making and evaluating predictions"
      ],
      "metadata": {
        "id": "3x5dtsbMnf4t"
      }
    },
    {
      "cell_type": "code",
      "source": [
        "# Turn model into evaluation mode\n",
        "model_1.eval()\n",
        "\n",
        "# Make predictions in the test data\n",
        "with torch.inference_mode():\n",
        "  y_preds = model_1(X_test)\n",
        "y_preds"
      ],
      "metadata": {
        "colab": {
          "base_uri": "https://localhost:8080/"
        },
        "id": "4YUVueH6nNPP",
        "outputId": "29239f89-0c34-4897-885a-ee47b1d230f2"
      },
      "execution_count": 38,
      "outputs": [
        {
          "output_type": "execute_result",
          "data": {
            "text/plain": [
              "tensor([[0.8468],\n",
              "        [0.8607],\n",
              "        [0.8746],\n",
              "        [0.8884],\n",
              "        [0.9023],\n",
              "        [0.9161],\n",
              "        [0.9300],\n",
              "        [0.9438],\n",
              "        [0.9577],\n",
              "        [0.9716]])"
            ]
          },
          "metadata": {},
          "execution_count": 38
        }
      ]
    },
    {
      "cell_type": "code",
      "source": [
        "plot_predictions(predictions = y_preds.cpu())"
      ],
      "metadata": {
        "colab": {
          "base_uri": "https://localhost:8080/",
          "height": 428
        },
        "id": "_E4g9GTunyDy",
        "outputId": "5585f450-0b1b-4ff4-f01f-640dc5434e14"
      },
      "execution_count": 39,
      "outputs": [
        {
          "output_type": "display_data",
          "data": {
            "text/plain": [
              "<Figure size 720x504 with 1 Axes>"
            ],
            "image/png": "[encoded data removed]"
          },
          "metadata": {
            "needs_background": "light"
          }
        }
      ]
    },
    {
      "cell_type": "markdown",
      "source": [
        "# Saving and loading a trained model"
      ],
      "metadata": {
        "id": "UaPVgURkoQU-"
      }
    },
    {
      "cell_type": "code",
      "source": [
        "from pathlib import Path\n",
        "\n",
        "# 1. Create a modedls directory\n",
        "MODEL_PATH = Path(\"models\")\n",
        "MODEL_PATH.mkdir(parents= True, exist_ok = True)\n",
        "\n",
        "# Create a mdoel save path\n",
        "MODEL_NAME = \"01_pytorch_workflow_model_1.pth\"\n",
        "MODEL_SAVE_PATH = MODEL_PATH /MODEL_NAME\n",
        "\n",
        "# 3. Save the model state dict\n",
        "print(f\"Saving model to : {MODEL_SAVE_PATH}\")\n",
        "torch.save(obj= model_1.state_dict(), f = MODEL_SAVE_PATH)\n"
      ],
      "metadata": {
        "colab": {
          "base_uri": "https://localhost:8080/"
        },
        "id": "NIrkEh8IoGmY",
        "outputId": "03e337c8-eb7a-441a-cb56-85ca6f7dfef6"
      },
      "execution_count": 46,
      "outputs": [
        {
          "output_type": "stream",
          "name": "stdout",
          "text": [
            "Saving model to : models/01_pytorch_workflow_model_1.pth\n"
          ]
        }
      ]
    },
    {
      "cell_type": "code",
      "source": [
        "MODEL_SAVE_PATH"
      ],
      "metadata": {
        "colab": {
          "base_uri": "https://localhost:8080/"
        },
        "id": "k5bRi0Mkoows",
        "outputId": "267904d8-6634-471d-e05f-43c84abedf5f"
      },
      "execution_count": 45,
      "outputs": [
        {
          "output_type": "execute_result",
          "data": {
            "text/plain": [
              "PosixPath('models/01_pytorch_workflow_model_0.pth')"
            ]
          },
          "metadata": {},
          "execution_count": 45
        }
      ]
    },
    {
      "cell_type": "markdown",
      "source": [
        "# Load a Pytorch Model\n"
      ],
      "metadata": {
        "id": "3gPDZB3sqV6r"
      }
    },
    {
      "cell_type": "code",
      "source": [
        "# Load a PyTorch model\n",
        "\n",
        "# Create a new instace of LinearREgressionV2\n",
        "\n",
        "loaded_model_1 = LinearRegressionV2()\n",
        "\n",
        "# Load the saved model_1 state_dict \n",
        "\n",
        "loaded_model_1.load_state_dict(torch.load(MODEL_SAVE_PATH))\n",
        "\n",
        "# Put the loaded model to device\n",
        "loaded_model_1.to(device)"
      ],
      "metadata": {
        "colab": {
          "base_uri": "https://localhost:8080/"
        },
        "id": "V3OHvW4kouel",
        "outputId": "f4ae3fc8-45e3-4950-c2da-46853c974383"
      },
      "execution_count": 49,
      "outputs": [
        {
          "output_type": "execute_result",
          "data": {
            "text/plain": [
              "LinearRegressionV2(\n",
              "  (linear_layer): Linear(in_features=1, out_features=1, bias=True)\n",
              ")"
            ]
          },
          "metadata": {},
          "execution_count": 49
        }
      ]
    },
    {
      "cell_type": "code",
      "source": [
        "next(loaded_model_1.parameters()).device"
      ],
      "metadata": {
        "colab": {
          "base_uri": "https://localhost:8080/"
        },
        "id": "D12PzD38q2hf",
        "outputId": "e1cd41cd-8c97-4061-9586-60725cf57930"
      },
      "execution_count": 50,
      "outputs": [
        {
          "output_type": "execute_result",
          "data": {
            "text/plain": [
              "device(type='cpu')"
            ]
          },
          "metadata": {},
          "execution_count": 50
        }
      ]
    },
    {
      "cell_type": "code",
      "source": [
        "loaded_model_1.state_dict()"
      ],
      "metadata": {
        "colab": {
          "base_uri": "https://localhost:8080/"
        },
        "id": "AG0iD52XrKag",
        "outputId": "7e7bb0df-c61d-45d1-bd93-9cc4defbd5cc"
      },
      "execution_count": 51,
      "outputs": [
        {
          "output_type": "execute_result",
          "data": {
            "text/plain": [
              "OrderedDict([('linear_layer.weight', tensor([[0.6929]])),\n",
              "             ('linear_layer.bias', tensor([0.2925]))])"
            ]
          },
          "metadata": {},
          "execution_count": 51
        }
      ]
    },
    {
      "cell_type": "code",
      "source": [
        "# Evaluate loaded model\n",
        "loaded_model_1.eval()\n",
        "with torch.inference_mode():\n",
        "  loaded_model_1_preds = loaded_model_1(X_test)\n",
        "\n",
        "y_preds == loaded_model_1_preds"
      ],
      "metadata": {
        "colab": {
          "base_uri": "https://localhost:8080/"
        },
        "id": "YRTehi3VrNEf",
        "outputId": "fa9696de-e02a-4439-bd40-8602f74f21a8"
      },
      "execution_count": 52,
      "outputs": [
        {
          "output_type": "execute_result",
          "data": {
            "text/plain": [
              "tensor([[True],\n",
              "        [True],\n",
              "        [True],\n",
              "        [True],\n",
              "        [True],\n",
              "        [True],\n",
              "        [True],\n",
              "        [True],\n",
              "        [True],\n",
              "        [True]])"
            ]
          },
          "metadata": {},
          "execution_count": 52
        }
      ]
    },
    {
      "cell_type": "code",
      "source": [],
      "metadata": {
        "id": "l5YGiiZnrdlg"
      },
      "execution_count": null,
      "outputs": []
    }
  ]
}
