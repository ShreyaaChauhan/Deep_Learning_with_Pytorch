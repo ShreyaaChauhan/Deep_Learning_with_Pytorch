{
  "nbformat": 4,
  "nbformat_minor": 0,
  "metadata": {
    "colab": {
      "provenance": [],
      "collapsed_sections": [],
      "authorship_tag": "ABX9TyOuSDBd/c2+BUQhmZyNWadG",
      "include_colab_link": true
    },
    "kernelspec": {
      "name": "python3",
      "display_name": "Python 3"
    },
    "language_info": {
      "name": "python"
    }
  },
  "cells": [
    {
      "cell_type": "markdown",
      "metadata": {
        "id": "view-in-github",
        "colab_type": "text"
      },
      "source": [
        "<a href=\"https://colab.research.google.com/github/ShreyaaChauhan/Deep_Learning_with_Pytorch/blob/main/01_pytorch_workflow.ipynb\" target=\"_parent\"><img src=\"https://colab.research.google.com/assets/colab-badge.svg\" alt=\"Open In Colab\"/></a>"
      ]
    },
    {
      "cell_type": "markdown",
      "source": [
        "# PyTorch Workflow\n",
        "\n",
        "- data (prepare and load)\n",
        "- build model\n",
        "- fitting the model to the data (training)\n",
        "- making predictions and evaluating a model (inference)\n",
        "- saving and loading a model\n",
        "- putting it all together\n",
        "\n"
      ],
      "metadata": {
        "id": "DGZW7eodivyA"
      }
    },
    {
      "cell_type": "code",
      "source": [
        "import torch\n",
        "from torch import nn # nn contains all of PyTorch's building blocks for neural networks\n",
        "import matplotlib.pyplot as plt\n"
      ],
      "metadata": {
        "id": "1QIzjmTTiva-"
      },
      "execution_count": 54,
      "outputs": []
    },
    {
      "cell_type": "markdown",
      "source": [
        "# 1. Data Preparing and loading\n",
        "\n",
        "- Excel spreadsheet\n",
        "- Images of any kind\n",
        "- Videos (Youtube has lots of data)\n",
        "- Audio like songs or podcasts\n",
        "- DNA\n",
        "- Text\n",
        "\n",
        "Machine Learning is a game of two parts:\n",
        "1. get data into a numerical representation.\n",
        "2. Build a model to learn patterns in that numerical representation.\n",
        "\n",
        "\n"
      ],
      "metadata": {
        "id": "MxM6RoPikBUQ"
      }
    },
    {
      "cell_type": "code",
      "execution_count": 55,
      "metadata": {
        "id": "Fcwf-ipoiJUH"
      },
      "outputs": [],
      "source": [
        "# Linear Regression\n",
        "# Create *known* parameters\n",
        "weight = 0.7\n",
        "bias = 0.3\n",
        "\n",
        "# Create\n",
        "start = 0\n",
        "end = 1\n",
        "step = 0.02\n",
        "X = torch.arange(start, end, step).unsqueeze(dim = 1)\n",
        "Y = weight* X + bias"
      ]
    },
    {
      "cell_type": "markdown",
      "source": [
        "### Splitting data into training and test sets "
      ],
      "metadata": {
        "id": "d3UMr-JQl32P"
      }
    },
    {
      "cell_type": "code",
      "source": [
        "# Create a train /test split\n",
        "train_split = int(0.8*len(X))\n",
        "X_train, Y_train = X[: train_split], Y[:train_split]\n",
        "X_test, Y_test = X[train_split:], Y[train_split:]"
      ],
      "metadata": {
        "id": "sdIqPTMllRVD"
      },
      "execution_count": 56,
      "outputs": []
    },
    {
      "cell_type": "code",
      "source": [
        "def plot_predictions(train_data = X_train,\n",
        "                     train_labels = Y_train,\n",
        "                     test_data = X_test,\n",
        "                     test_labels = Y_test,\n",
        "                     predictions = None):\n",
        "  # ===========================================================\n",
        "  #    Plot training data, test data and compare predictions\n",
        "  # ===========================================================\n",
        "  plt.figure(figsize = (10,7))\n",
        "\n",
        "  # Plot training data in blue\n",
        "  plt.scatter(train_data, train_labels, c= \"b\", s=4, label = \"Trainning data\")\n",
        "\n",
        "  # Plot test data in green\n",
        "  plt.scatter(test_data, test_labels, c= \"g\", s=4, label = \"Testing data\")\n",
        "\n",
        "  # Are there predictions?\n",
        "  if predictions is not None:\n",
        "    #Plot the predictions if they exist\n",
        "    plt.scatter(test_data, predictions, c =\"r\", s=4, label=\"Predictions\")\n",
        "\n",
        "    #Show the legend\n",
        "    plt.legend(prop={\"size\":14})\n"
      ],
      "metadata": {
        "id": "OZ7pJ_2SnNPH"
      },
      "execution_count": 57,
      "outputs": []
    },
    {
      "cell_type": "code",
      "source": [
        "plot_predictions()"
      ],
      "metadata": {
        "colab": {
          "base_uri": "https://localhost:8080/",
          "height": 428
        },
        "id": "6kIVz_VhKV1a",
        "outputId": "f7b292d2-b5c7-449e-ff0e-e38fd9415c6c"
      },
      "execution_count": 58,
      "outputs": [
        {
          "output_type": "display_data",
          "data": {
            "text/plain": [
              "<Figure size 720x504 with 1 Axes>"
            ],
            "image/png": "[encoded data removed]"
          },
          "metadata": {
            "needs_background": "light"
          }
        }
      ]
    },
    {
      "cell_type": "markdown",
      "source": [
        "# Build model\n",
        "\n",
        "**What our model does?**\n",
        "* Start with random values (weight & bias)\n",
        "* Look at training data and adjust the random values to better represnet (or get closer to) the ideal values (the weight & bias values we used to create the data)\n",
        "\n",
        "**How does it do so?**\n",
        "\n",
        "Through two main algorithms:\n",
        "1. Gradient descent\n",
        "2. Backpropagation"
      ],
      "metadata": {
        "id": "AHb8_v00KmyJ"
      }
    },
    {
      "cell_type": "code",
      "source": [
        "#Create linear regression model class\n",
        "class LinearRegression(nn.Module): #<- almost everything in Pytorch inherits from nn.Module\n",
        "  def __init__(self):\n",
        "    super().__init__()\n",
        "    # Initialize model parameters\n",
        "    self.weights = nn.Parameter(torch.randn(1, requires_grad = True,dtype= torch.float))\n",
        "    self.bias = nn.Parameter(torch.randn(1, requires_grad = True, dtype= torch.float))\n",
        "\n",
        "    # Forward method to define the computation in the model\n",
        "  def forward(self, x:torch.Tensor) -> torch.Tensor: # <- \"x is the input data\"\n",
        "    return self.weights * x + self.bias # this is the linear regression formula\n"
      ],
      "metadata": {
        "id": "ORCCF95TKYUL"
      },
      "execution_count": 59,
      "outputs": []
    },
    {
      "cell_type": "markdown",
      "source": [
        "# Pytorch model building essentials\n",
        "\n",
        "\n",
        "* torch.nn - conatins all of the building blocks for computational graphs (another word for neural networks)\n",
        "* torch.nn.Parameter - what parameters should our model try and learn, often a PyTorch layer from torch.nn will set these for us\n",
        "* torch.nn.Module - The base class for all neural network modules, if you subclass it, you should overwrite forward()\n",
        "* torch.optim - this is where the optimizers in Pytorch live, they will help with the gradient descent\n",
        "* torch.utils.data.Dataset - Represents a map between key (label) and sample (features) pairs of your data. Such as images and their associated labels\n",
        "* torch.utils.data.DataLoader Creates a Python iterable over a torch Dataset(allow you to iterate over your data)\n",
        "* def forward() - All nn.Module subclasses require you ti overwrite forward(), this method defines what happens in the forwards computation"
      ],
      "metadata": {
        "id": "4HdRJSWgSbJ-"
      }
    },
    {
      "cell_type": "markdown",
      "source": [
        "### Checking the contents of our PyTorch model"
      ],
      "metadata": {
        "id": "0mGdMmVScDi2"
      }
    },
    {
      "cell_type": "code",
      "source": [
        "\n",
        "\n",
        "# CReate an instance of the moce (this is a subclass of nn.Module)\n",
        "model_0 = LinearRegression()"
      ],
      "metadata": {
        "id": "1eg_xT74SZ_A"
      },
      "execution_count": 60,
      "outputs": []
    },
    {
      "cell_type": "code",
      "source": [
        "# List out the parameters\n",
        "list(model_0.parameters())"
      ],
      "metadata": {
        "colab": {
          "base_uri": "https://localhost:8080/"
        },
        "id": "a8OuvoT2ixPk",
        "outputId": "34b23b1e-d953-4fef-92e9-4ac28d3586cb"
      },
      "execution_count": 61,
      "outputs": [
        {
          "output_type": "execute_result",
          "data": {
            "text/plain": [
              "[Parameter containing:\n",
              " tensor([0.3367], requires_grad=True), Parameter containing:\n",
              " tensor([0.1288], requires_grad=True)]"
            ]
          },
          "metadata": {},
          "execution_count": 61
        }
      ]
    },
    {
      "cell_type": "code",
      "source": [
        "# List named parameters\n",
        "model_0.state_dict()"
      ],
      "metadata": {
        "colab": {
          "base_uri": "https://localhost:8080/"
        },
        "id": "3aC2ta1ciyPJ",
        "outputId": "ec7b61ef-5aca-4d59-e748-dcc4a53bc67a"
      },
      "execution_count": 62,
      "outputs": [
        {
          "output_type": "execute_result",
          "data": {
            "text/plain": [
              "OrderedDict([('weights', tensor([0.3367])), ('bias', tensor([0.1288]))])"
            ]
          },
          "metadata": {},
          "execution_count": 62
        }
      ]
    },
    {
      "cell_type": "code",
      "source": [
        "weight, bias"
      ],
      "metadata": {
        "colab": {
          "base_uri": "https://localhost:8080/"
        },
        "id": "mWQxwEsQjXVR",
        "outputId": "b8db1481-b09d-447d-e11c-d575fa7d4796"
      },
      "execution_count": 63,
      "outputs": [
        {
          "output_type": "execute_result",
          "data": {
            "text/plain": [
              "(0.7, 0.3)"
            ]
          },
          "metadata": {},
          "execution_count": 63
        }
      ]
    },
    {
      "cell_type": "markdown",
      "source": [
        "### Making prediction using `torch.inference_mode()`"
      ],
      "metadata": {
        "id": "BQm4VPhmjxWl"
      }
    },
    {
      "cell_type": "code",
      "source": [
        "# Make predictions with model\n",
        "with torch.inference_mode():\n",
        "  Y_preds = model_0(X_test)\n",
        "  \n",
        "# You can also do something similar with torch.no)grad(), however, torch.inference_mode() is preferred\n",
        "with torch.no_grad():\n",
        "  Y_preds = model_0(X_test)\n",
        "\n",
        "plot_predictions(predictions=Y_preds)"
      ],
      "metadata": {
        "colab": {
          "base_uri": "https://localhost:8080/",
          "height": 428
        },
        "id": "NjcpNGKnji1k",
        "outputId": "c898c7b0-a28f-4817-c4e3-dced5841c4f4"
      },
      "execution_count": 64,
      "outputs": [
        {
          "output_type": "display_data",
          "data": {
            "text/plain": [
              "<Figure size 720x504 with 1 Axes>"
            ],
            "image/png": "[encoded data removed]"
          },
          "metadata": {
            "needs_background": "light"
          }
        }
      ]
    },
    {
      "cell_type": "markdown",
      "source": [
        "# Train model\n",
        "\n",
        "The model idea of training is for a model to move from some *unknown* parameter (these may be random) to some *known* parameters\n",
        "\n",
        "Or in other words from a poor representation of the data to a better representation\n",
        "\n",
        "One way to measure how poor on how wrong your models predictions are is to use a loss function/ cost function/ criterion \n",
        "\n",
        "Things we need to train\n",
        "\n",
        "**Loss function:** A function to measure how wrong your model's predictions are to the idel outputs, lower is better\n",
        "\n",
        "**Optimizer:** Take into account the loss of a model and adjusts the model's parameters(e.g weight & bias) to improve the loss function\n",
        "\n",
        "Inside the optimizer we'll often have to set two parameters:\n",
        "- params - the model parameters we'd like to optimize. e.g `params = model_0.parameters()`\n",
        "\n",
        "- lr (learning rate) - the learning rate is a hyperparameter tha defines how big/small the optimizer changes the parameters with each step (a small lr results in small changes, a large lr results in larger changes)\n"
      ],
      "metadata": {
        "id": "0H1m17XIpIIL"
      }
    },
    {
      "cell_type": "markdown",
      "source": [
        "and specifically for PyTorch, we need:\n",
        "\n",
        "- A training loop\n",
        "- A testing loop"
      ],
      "metadata": {
        "id": "_hKgBe1Ws6QP"
      }
    },
    {
      "cell_type": "code",
      "source": [
        "# Set up loss function\n",
        "loss_fn = nn.L1Loss()\n",
        "\n",
        "# Setup an optimizer (stochastic gradient descent)\n",
        "optimizer = torch.optim.SGD(params = model_0.parameters(), lr = 0.01)"
      ],
      "metadata": {
        "id": "VKw8-9nXmy_m"
      },
      "execution_count": 65,
      "outputs": []
    },
    {
      "cell_type": "markdown",
      "source": [
        "# Build a training loop (amd a testing loop) in PyTorch\n",
        "\n",
        "Following are the things that we need in our training loop:-\n",
        "0. Loop through the data\n",
        "1. Forward pass (this involves data moving through our model's `forward()` functions) to make predictions on data - also called forward propagation\n",
        "2. Calculate the loss (compare forward pass predictions to the ground truth labels)\n",
        "3. Optimizer zero grad\n",
        "4. Loss backward - move backwards through the network to calculate the gradients of each of the parameters of our model with respect to the loss (**backpropagation**)\n",
        "5. Optimizer step - use the optimizer to adjust our model's parameters to try and improve the loss (**gradiend descent**)\n"
      ],
      "metadata": {
        "id": "p_HkVD2UxD3f"
      }
    },
    {
      "cell_type": "code",
      "source": [
        "torch.manual_seed(42)\n",
        "# An epoch is one loop through the data...\n",
        "epochs = 200\n",
        "\n",
        "#track different values\n",
        "epoch_count = []\n",
        "loss_values = []\n",
        "test_loss_values = []\n",
        "\n",
        "# 0. Loop through the data\n",
        "for epoch in range(epochs):\n",
        "  # Set the model to training mode\n",
        "  model_0.train() # train mode in PyTorch sets all parameters that require gradients to require gradients\n",
        "  # 1. Foraward pass \n",
        "  y_pred = model_0(X_train)\n",
        "  # 2. calculate the loss \n",
        "  loss = loss_fn(y_pred, Y_train)\n",
        "  # 3. Optimizer zero grad\n",
        "  optimizer.zero_grad()\n",
        "  # 4. Perform backpropagation on the loss with respect to the parameters of the model\n",
        "  loss.backward()\n",
        "  # 5. Step the optimizer (perform gradient descent)\n",
        "  optimizer.step() # by default how the optimizer changes will accumulate through the loop so.. we have tp zero them above step 3\n",
        "  \n",
        "  #Testing \n",
        "  model_0.eval()# turns of different settings in the model not needed for evaluation/testing\n",
        "  with torch.inference_mode(): #turns off gradient tracking & a couple more things behind the scenes \n",
        "    # Do the forward pass\n",
        "    test_pred = model_0(X_test)\n",
        "\n",
        "    # Clculate the loss\n",
        "    test_loss = loss_fn(test_pred, Y_test)\n",
        "  if epoch % 10 ==0:\n",
        "    epoch_count.append(epoch)\n",
        "    loss_values.append(loss)\n",
        "    test_loss_values.append(test_loss)\n",
        "    print(f\"Epoch: {epoch} | Test: {loss} | Test loss: {test_loss}\")\n",
        "    print(model_0.state_dict(), epoch)\n",
        "\n",
        "  #print(model_0.state_dict(), epoch)"
      ],
      "metadata": {
        "colab": {
          "base_uri": "https://localhost:8080/"
        },
        "id": "_QiAX7gnytwV",
        "outputId": "cee68342-d912-4155-eb45-ae1f809b38ed"
      },
      "execution_count": 66,
      "outputs": [
        {
          "output_type": "stream",
          "name": "stdout",
          "text": [
            "Epoch: 0 | Test: 0.31288138031959534 | Test loss: 0.48106518387794495\n",
            "OrderedDict([('weights', tensor([0.3406])), ('bias', tensor([0.1388]))]) 0\n",
            "Epoch: 10 | Test: 0.1976713240146637 | Test loss: 0.3463551998138428\n",
            "OrderedDict([('weights', tensor([0.3796])), ('bias', tensor([0.2388]))]) 10\n",
            "Epoch: 20 | Test: 0.08908725529909134 | Test loss: 0.21729660034179688\n",
            "OrderedDict([('weights', tensor([0.4184])), ('bias', tensor([0.3333]))]) 20\n",
            "Epoch: 30 | Test: 0.053148526698350906 | Test loss: 0.14464017748832703\n",
            "OrderedDict([('weights', tensor([0.4512])), ('bias', tensor([0.3768]))]) 30\n",
            "Epoch: 40 | Test: 0.04543796554207802 | Test loss: 0.11360953003168106\n",
            "OrderedDict([('weights', tensor([0.4748])), ('bias', tensor([0.3868]))]) 40\n",
            "Epoch: 50 | Test: 0.04167863354086876 | Test loss: 0.09919948130846024\n",
            "OrderedDict([('weights', tensor([0.4938])), ('bias', tensor([0.3843]))]) 50\n",
            "Epoch: 60 | Test: 0.03818932920694351 | Test loss: 0.08886633068323135\n",
            "OrderedDict([('weights', tensor([0.5116])), ('bias', tensor([0.3788]))]) 60\n",
            "Epoch: 70 | Test: 0.03476089984178543 | Test loss: 0.0805937647819519\n",
            "OrderedDict([('weights', tensor([0.5288])), ('bias', tensor([0.3718]))]) 70\n",
            "Epoch: 80 | Test: 0.03132382780313492 | Test loss: 0.07232122868299484\n",
            "OrderedDict([('weights', tensor([0.5459])), ('bias', tensor([0.3648]))]) 80\n",
            "Epoch: 90 | Test: 0.02788739837706089 | Test loss: 0.06473556160926819\n",
            "OrderedDict([('weights', tensor([0.5629])), ('bias', tensor([0.3573]))]) 90\n",
            "Epoch: 100 | Test: 0.024458957836031914 | Test loss: 0.05646304413676262\n",
            "OrderedDict([('weights', tensor([0.5800])), ('bias', tensor([0.3503]))]) 100\n",
            "Epoch: 110 | Test: 0.021020207554101944 | Test loss: 0.04819049686193466\n",
            "OrderedDict([('weights', tensor([0.5972])), ('bias', tensor([0.3433]))]) 110\n",
            "Epoch: 120 | Test: 0.01758546568453312 | Test loss: 0.04060482233762741\n",
            "OrderedDict([('weights', tensor([0.6141])), ('bias', tensor([0.3358]))]) 120\n",
            "Epoch: 130 | Test: 0.014155393466353416 | Test loss: 0.03233227878808975\n",
            "OrderedDict([('weights', tensor([0.6313])), ('bias', tensor([0.3288]))]) 130\n",
            "Epoch: 140 | Test: 0.010716589167714119 | Test loss: 0.024059748277068138\n",
            "OrderedDict([('weights', tensor([0.6485])), ('bias', tensor([0.3218]))]) 140\n",
            "Epoch: 150 | Test: 0.0072835334576666355 | Test loss: 0.016474086791276932\n",
            "OrderedDict([('weights', tensor([0.6654])), ('bias', tensor([0.3143]))]) 150\n",
            "Epoch: 160 | Test: 0.0038517764769494534 | Test loss: 0.008201557211577892\n",
            "OrderedDict([('weights', tensor([0.6826])), ('bias', tensor([0.3073]))]) 160\n",
            "Epoch: 170 | Test: 0.008932482451200485 | Test loss: 0.005023092031478882\n",
            "OrderedDict([('weights', tensor([0.6951])), ('bias', tensor([0.2993]))]) 170\n",
            "Epoch: 180 | Test: 0.008932482451200485 | Test loss: 0.005023092031478882\n",
            "OrderedDict([('weights', tensor([0.6951])), ('bias', tensor([0.2993]))]) 180\n",
            "Epoch: 190 | Test: 0.008932482451200485 | Test loss: 0.005023092031478882\n",
            "OrderedDict([('weights', tensor([0.6951])), ('bias', tensor([0.2993]))]) 190\n"
          ]
        }
      ]
    },
    {
      "cell_type": "code",
      "source": [
        "import numpy as np\n",
        "#plot the loss cureves\n",
        "plt.plot(epoch_count, torch.tensor(loss_values).numpy(), label = \"Train loss\")\n",
        "plt.plot(epoch_count, np.array(test_loss_values), label = \"test loss\")\n",
        "plt.title(\"Training and test loss curves\")\n",
        "plt.ylabel(\"Loss\")\n",
        "plt.xlabel(\"Epochs\")\n",
        "plt.legend()"
      ],
      "metadata": {
        "colab": {
          "base_uri": "https://localhost:8080/",
          "height": 313
        },
        "id": "iYh7SFtPqq90",
        "outputId": "5cc992be-d080-478c-a11e-e1aac6b6a2cf"
      },
      "execution_count": 67,
      "outputs": [
        {
          "output_type": "execute_result",
          "data": {
            "text/plain": [
              "<matplotlib.legend.Legend at 0x7fc2c5630dd0>"
            ]
          },
          "metadata": {},
          "execution_count": 67
        },
        {
          "output_type": "display_data",
          "data": {
            "text/plain": [
              "<Figure size 432x288 with 1 Axes>"
            ],
            "image/png": "[encoded data removed]"
          },
          "metadata": {
            "needs_background": "light"
          }
        }
      ]
    },
    {
      "cell_type": "markdown",
      "source": [
        "**Learning Rate**: Learnign rate schedules seek to adjust the learning rate during training by reducing the learning rate according to pre-defined schedule \n",
        "Common learning rate schedules includes:-\n",
        "\n",
        "- Time based decay\n",
        "- Step decay\n",
        "- Exponential decay"
      ],
      "metadata": {
        "id": "0Y-uvUnc5iE4"
      }
    },
    {
      "cell_type": "code",
      "source": [
        "model_0.state_dict()"
      ],
      "metadata": {
        "colab": {
          "base_uri": "https://localhost:8080/"
        },
        "id": "mccZ8VNy58EG",
        "outputId": "7b1cfb89-6805-4cce-ca70-7e6745660331"
      },
      "execution_count": 68,
      "outputs": [
        {
          "output_type": "execute_result",
          "data": {
            "text/plain": [
              "OrderedDict([('weights', tensor([0.6990])), ('bias', tensor([0.3093]))])"
            ]
          },
          "metadata": {},
          "execution_count": 68
        }
      ]
    },
    {
      "cell_type": "code",
      "source": [
        "with torch.inference_mode():\n",
        "  y_preds_new = model_0(X_test)"
      ],
      "metadata": {
        "id": "fkfvp6RrgHId"
      },
      "execution_count": 69,
      "outputs": []
    },
    {
      "cell_type": "code",
      "source": [
        "plot_predictions(predictions=y_preds_new)"
      ],
      "metadata": {
        "colab": {
          "base_uri": "https://localhost:8080/",
          "height": 428
        },
        "id": "t6fvP2UHj0Iw",
        "outputId": "4cd9581b-d3bc-4691-d787-6cbf00661613"
      },
      "execution_count": 70,
      "outputs": [
        {
          "output_type": "display_data",
          "data": {
            "text/plain": [
              "<Figure size 720x504 with 1 Axes>"
            ],
            "image/png": "[encoded data removed]"
          },
          "metadata": {
            "needs_background": "light"
          }
        }
      ]
    },
    {
      "cell_type": "markdown",
      "source": [
        "# Saving a model in PyTorch\n",
        "\n",
        "There are three main methods for saving and loading models in PyTorch\n",
        "\n",
        "1. `torch.save()` - allows you to save a PyTorch object in Python's pickle format\n",
        "2. `torch.load()` - allows you load a saved PyTorch object\n",
        "3. `torch.nn.Module.load_state_dict()` - this allows to load a model's saved state dictionary"
      ],
      "metadata": {
        "id": "K9TWPuzgs2wM"
      }
    },
    {
      "cell_type": "code",
      "source": [
        "# saving our PyTorch model\n",
        "from pathlib import Path\n",
        "\n",
        "# Create models directory\n",
        "MODEL_PATH = Path(\"models\")\n",
        "MODEL_PATH.mkdir(parents=True, exist_ok = True)\n",
        "\n",
        "# Create model save path\n",
        "MODEL_NAME = \"01_pytorch_workflow_model_0.pth\"\n",
        "MODEL_SAVE_PATH = MODEL_PATH /MODEL_NAME\n",
        "\n",
        "# Save the model state dict\n",
        "print(f\"Saving model to: {MODEL_SAVE_PATH}\")\n",
        "torch.save(obj = model_0.state_dict(), f = MODEL_SAVE_PATH)"
      ],
      "metadata": {
        "colab": {
          "base_uri": "https://localhost:8080/"
        },
        "id": "Np1ZLNNPj7OZ",
        "outputId": "8ab6d989-bcf9-4087-df23-bbec43df0f59"
      },
      "execution_count": 73,
      "outputs": [
        {
          "output_type": "stream",
          "name": "stdout",
          "text": [
            "Saving model to: models/01_pytorch_workflow_model_0.pth\n"
          ]
        }
      ]
    },
    {
      "cell_type": "markdown",
      "source": [
        "## Loading a PyTorch model\n",
        "\n",
        "Since we saved our model's `state_dict()` rather than the entire model, we'll create a new instance of our model class and load the saved `state_dict()` into that "
      ],
      "metadata": {
        "id": "H-cujKTSzQrh"
      }
    },
    {
      "cell_type": "code",
      "source": [
        "# To load in a saved state_dict we have to instantiate a new instance odf our model class\n",
        "loaded_model_o = LinearRegression()\n",
        "\n",
        "# Load the saved state_dict of model_0 (this will update the new instance with upadted parameters)\n",
        "loaded_model_o.load_state_dict(torch.load(f=MODEL_SAVE_PATH))"
      ],
      "metadata": {
        "colab": {
          "base_uri": "https://localhost:8080/"
        },
        "id": "vAiomum8wDLo",
        "outputId": "b3338b0a-58e0-4607-e323-d1e1a67dadcc"
      },
      "execution_count": 77,
      "outputs": [
        {
          "output_type": "execute_result",
          "data": {
            "text/plain": [
              "<All keys matched successfully>"
            ]
          },
          "metadata": {},
          "execution_count": 77
        }
      ]
    },
    {
      "cell_type": "code",
      "source": [
        "loaded_model_o.state_dict()"
      ],
      "metadata": {
        "colab": {
          "base_uri": "https://localhost:8080/"
        },
        "id": "_9C_nTup43R5",
        "outputId": "f595e8c8-a98d-40a9-b2ce-3004071111bc"
      },
      "execution_count": 78,
      "outputs": [
        {
          "output_type": "execute_result",
          "data": {
            "text/plain": [
              "OrderedDict([('weights', tensor([0.6990])), ('bias', tensor([0.3093]))])"
            ]
          },
          "metadata": {},
          "execution_count": 78
        }
      ]
    },
    {
      "cell_type": "code",
      "source": [],
      "metadata": {
        "id": "QUfigf6E5c8y"
      },
      "execution_count": null,
      "outputs": []
    }
  ]
}