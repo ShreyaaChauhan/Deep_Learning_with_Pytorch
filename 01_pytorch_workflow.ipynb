{
  "nbformat": 4,
  "nbformat_minor": 0,
  "metadata": {
    "colab": {
      "provenance": [],
      "authorship_tag": "ABX9TyPIyddAzx5qVy1etp8ny+ic",
      "include_colab_link": true
    },
    "kernelspec": {
      "name": "python3",
      "display_name": "Python 3"
    },
    "language_info": {
      "name": "python"
    }
  },
  "cells": [
    {
      "cell_type": "markdown",
      "metadata": {
        "id": "view-in-github",
        "colab_type": "text"
      },
      "source": [
        "<a href=\"https://colab.research.google.com/github/ShreyaaChauhan/Deep_Learning_with_Pytorch/blob/main/01_pytorch_workflow.ipynb\" target=\"_parent\"><img src=\"https://colab.research.google.com/assets/colab-badge.svg\" alt=\"Open In Colab\"/></a>"
      ]
    },
    {
      "cell_type": "markdown",
      "source": [
        "# PyTorch Workflow\n",
        "\n",
        "- data (prepare and load)\n",
        "- build model\n",
        "- fitting the model to the data (training)\n",
        "- making predictions and evaluating a model (inference)\n",
        "- saving and loading a model\n",
        "- putting it all together\n",
        "\n"
      ],
      "metadata": {
        "id": "DGZW7eodivyA"
      }
    },
    {
      "cell_type": "code",
      "source": [
        "import torch\n",
        "from torch import nn # nn contains all of PyTorch's building blocks for neural networks\n",
        "import matplotlib.pyplot as plt\n"
      ],
      "metadata": {
        "id": "1QIzjmTTiva-"
      },
      "execution_count": 2,
      "outputs": []
    },
    {
      "cell_type": "markdown",
      "source": [
        "# 1. Data Preparing and loading\n",
        "\n",
        "- Excel spreadsheet\n",
        "- Images of any kind\n",
        "- Videos (Youtube has lots of data)\n",
        "- Audio like songs or podcasts\n",
        "- DNA\n",
        "- Text\n",
        "\n",
        "Machine Learning is a game of two parts:\n",
        "1. get data into a numerical representation.\n",
        "2. Build a model to learn patterns in that numerical representation.\n",
        "\n",
        "\n"
      ],
      "metadata": {
        "id": "MxM6RoPikBUQ"
      }
    },
    {
      "cell_type": "code",
      "execution_count": 7,
      "metadata": {
        "id": "Fcwf-ipoiJUH"
      },
      "outputs": [],
      "source": [
        "# Linear Regression\n",
        "# Create *known* parameters\n",
        "weight = 0.7\n",
        "bias = 0.3\n",
        "\n",
        "# Create\n",
        "start = 0\n",
        "end = 1\n",
        "step = 0.02\n",
        "X = torch.arange(start, end, step).unsqueeze(dim = 1)\n",
        "Y = weight* X + bias"
      ]
    },
    {
      "cell_type": "markdown",
      "source": [
        "### Splitting data into training and test sets "
      ],
      "metadata": {
        "id": "d3UMr-JQl32P"
      }
    },
    {
      "cell_type": "code",
      "source": [
        "# Create a train /test split\n",
        "train_split = int(0.8*len(X))\n",
        "x_train, y_train = X[: train_split], Y[:train_split]\n",
        "X_test, Y_test = X[train_split:], Y[train_split:]"
      ],
      "metadata": {
        "id": "sdIqPTMllRVD"
      },
      "execution_count": 8,
      "outputs": []
    },
    {
      "cell_type": "code",
      "source": [],
      "metadata": {
        "id": "OZ7pJ_2SnNPH"
      },
      "execution_count": null,
      "outputs": []
    }
  ]
}